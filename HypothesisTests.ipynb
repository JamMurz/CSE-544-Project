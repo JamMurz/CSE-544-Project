{
  "nbformat": 4,
  "nbformat_minor": 0,
  "metadata": {
    "colab": {
      "name": "HypothesisTests.ipynb",
      "provenance": []
    },
    "kernelspec": {
      "name": "python3",
      "display_name": "Python 3"
    },
    "language_info": {
      "name": "python"
    }
  },
  "cells": [
    {
      "cell_type": "code",
      "metadata": {
        "id": "I1lf-RXlAiC6"
      },
      "source": [
        "'''\n",
        "Tukey outlier removal\n",
        "'''\n",
        "import pandas as pd\n",
        "import numpy as np\n",
        "state = pd.read_csv('23.csv')\n",
        "\n",
        "VA_confirmed = state[['Date', 'VA confirmed']].set_index('Date').diff()\n",
        "VA_confirmed.fillna(0, inplace=True)\n",
        "\n",
        "VA_deaths = state[['Date', 'VA deaths']].set_index('Date').diff()\n",
        "VA_deaths.fillna(0, inplace=True)\n",
        "\n",
        "\n",
        "UT_confirmed = VA_confirmed = state[['Date', 'UT confirmed']].set_index('Date').diff()\n",
        "UT_confirmed.fillna(0, inplace=True)\n",
        "\n",
        "\n",
        "UT_deaths = state[['Date', 'UT deaths']].set_index('Date').diff()\n",
        "UT_deaths.fillna(0, inplace=True)\n",
        "\n",
        "\n",
        "def tukey(dataframe):\n",
        "  q1 = dataframe.quantile(0.25)\n",
        "  q3 = dataframe.quantile(0.75)\n",
        "  iqr = q3 - q1\n",
        "  lower_threshold = q1 - (1.5 * iqr)\n",
        "  upper_threshold = q3 + (1.5 * iqr)\n",
        "  outliers = []\n",
        "  return dataframe[dataframe.values > upper_threshold | dataframe.values < lower_threshold]\n",
        "  "
      ],
      "execution_count": null,
      "outputs": []
    },
    {
      "cell_type": "code",
      "metadata": {
        "colab": {
          "base_uri": "https://localhost:8080/",
          "height": 391
        },
        "id": "AnX9uN36Dqir",
        "outputId": "78954363-45d3-4dc7-8067-909315ca6a03"
      },
      "source": [
        "|print(\"Outliers in UT confirmed: \", tukey(UT_confirmed))\n",
        "print(\"Outliers in UT deaths: \", tukey(UT_deaths))\n",
        "\n",
        "print(\"Outliers in VA confirmed: \", tukey(VA_confirmed))\n",
        "print(\"Outliers in VA deaths: \", tukey(VA_deaths))\n",
        "\n"
      ],
      "execution_count": null,
      "outputs": [
        {
          "output_type": "error",
          "ename": "TypeError",
          "evalue": "ignored",
          "traceback": [
            "\u001b[0;31m---------------------------------------------------------------------------\u001b[0m",
            "\u001b[0;31mTypeError\u001b[0m                                 Traceback (most recent call last)",
            "\u001b[0;32m<ipython-input-58-137f09e299fe>\u001b[0m in \u001b[0;36m<module>\u001b[0;34m()\u001b[0m\n\u001b[0;32m----> 1\u001b[0;31m \u001b[0mprint\u001b[0m\u001b[0;34m(\u001b[0m\u001b[0;34m\"Outliers in UT confirmed: \"\u001b[0m\u001b[0;34m,\u001b[0m \u001b[0mtukey\u001b[0m\u001b[0;34m(\u001b[0m\u001b[0mUT_confirmed\u001b[0m\u001b[0;34m)\u001b[0m\u001b[0;34m)\u001b[0m\u001b[0;34m\u001b[0m\u001b[0;34m\u001b[0m\u001b[0m\n\u001b[0m\u001b[1;32m      2\u001b[0m \u001b[0mprint\u001b[0m\u001b[0;34m(\u001b[0m\u001b[0;34m\"Outliers in UT deaths: \"\u001b[0m\u001b[0;34m,\u001b[0m \u001b[0mtukey\u001b[0m\u001b[0;34m(\u001b[0m\u001b[0mUT_deaths\u001b[0m\u001b[0;34m)\u001b[0m\u001b[0;34m)\u001b[0m\u001b[0;34m\u001b[0m\u001b[0;34m\u001b[0m\u001b[0m\n\u001b[1;32m      3\u001b[0m \u001b[0;34m\u001b[0m\u001b[0m\n\u001b[1;32m      4\u001b[0m \u001b[0mprint\u001b[0m\u001b[0;34m(\u001b[0m\u001b[0;34m\"Outliers in VA confirmed: \"\u001b[0m\u001b[0;34m,\u001b[0m \u001b[0mtukey\u001b[0m\u001b[0;34m(\u001b[0m\u001b[0mVA_confirmed\u001b[0m\u001b[0;34m)\u001b[0m\u001b[0;34m)\u001b[0m\u001b[0;34m\u001b[0m\u001b[0;34m\u001b[0m\u001b[0m\n\u001b[1;32m      5\u001b[0m \u001b[0mprint\u001b[0m\u001b[0;34m(\u001b[0m\u001b[0;34m\"Outliers in VA deaths: \"\u001b[0m\u001b[0;34m,\u001b[0m \u001b[0mtukey\u001b[0m\u001b[0;34m(\u001b[0m\u001b[0mVA_deaths\u001b[0m\u001b[0;34m)\u001b[0m\u001b[0;34m)\u001b[0m\u001b[0;34m\u001b[0m\u001b[0;34m\u001b[0m\u001b[0m\n",
            "\u001b[0;32m<ipython-input-57-3bf2a17e987e>\u001b[0m in \u001b[0;36mtukey\u001b[0;34m(dataframe)\u001b[0m\n\u001b[1;32m     29\u001b[0m   \u001b[0moutliers\u001b[0m \u001b[0;34m=\u001b[0m \u001b[0;34m[\u001b[0m\u001b[0;34m]\u001b[0m\u001b[0;34m\u001b[0m\u001b[0;34m\u001b[0m\u001b[0m\n\u001b[1;32m     30\u001b[0m   \u001b[0;32mfor\u001b[0m \u001b[0mi\u001b[0m \u001b[0;32min\u001b[0m \u001b[0mdataframe\u001b[0m\u001b[0;34m:\u001b[0m\u001b[0;34m\u001b[0m\u001b[0;34m\u001b[0m\u001b[0m\n\u001b[0;32m---> 31\u001b[0;31m     \u001b[0;32mif\u001b[0m \u001b[0mi\u001b[0m \u001b[0;34m<\u001b[0m \u001b[0mlower_threshold\u001b[0m \u001b[0;32mor\u001b[0m \u001b[0mi\u001b[0m \u001b[0;34m>\u001b[0m \u001b[0mupper_threshold\u001b[0m\u001b[0;34m:\u001b[0m\u001b[0;34m\u001b[0m\u001b[0;34m\u001b[0m\u001b[0m\n\u001b[0m\u001b[1;32m     32\u001b[0m       \u001b[0moutliers\u001b[0m\u001b[0;34m.\u001b[0m\u001b[0mappend\u001b[0m\u001b[0;34m(\u001b[0m\u001b[0mi\u001b[0m\u001b[0;34m)\u001b[0m\u001b[0;34m\u001b[0m\u001b[0;34m\u001b[0m\u001b[0m\n\u001b[1;32m     33\u001b[0m   \u001b[0;32mreturn\u001b[0m \u001b[0moutliers\u001b[0m\u001b[0;34m\u001b[0m\u001b[0;34m\u001b[0m\u001b[0m\n",
            "\u001b[0;32m/usr/local/lib/python3.7/dist-packages/pandas/core/ops/common.py\u001b[0m in \u001b[0;36mnew_method\u001b[0;34m(self, other)\u001b[0m\n\u001b[1;32m     63\u001b[0m         \u001b[0mother\u001b[0m \u001b[0;34m=\u001b[0m \u001b[0mitem_from_zerodim\u001b[0m\u001b[0;34m(\u001b[0m\u001b[0mother\u001b[0m\u001b[0;34m)\u001b[0m\u001b[0;34m\u001b[0m\u001b[0;34m\u001b[0m\u001b[0m\n\u001b[1;32m     64\u001b[0m \u001b[0;34m\u001b[0m\u001b[0m\n\u001b[0;32m---> 65\u001b[0;31m         \u001b[0;32mreturn\u001b[0m \u001b[0mmethod\u001b[0m\u001b[0;34m(\u001b[0m\u001b[0mself\u001b[0m\u001b[0;34m,\u001b[0m \u001b[0mother\u001b[0m\u001b[0;34m)\u001b[0m\u001b[0;34m\u001b[0m\u001b[0;34m\u001b[0m\u001b[0m\n\u001b[0m\u001b[1;32m     66\u001b[0m \u001b[0;34m\u001b[0m\u001b[0m\n\u001b[1;32m     67\u001b[0m     \u001b[0;32mreturn\u001b[0m \u001b[0mnew_method\u001b[0m\u001b[0;34m\u001b[0m\u001b[0;34m\u001b[0m\u001b[0m\n",
            "\u001b[0;32m/usr/local/lib/python3.7/dist-packages/pandas/core/ops/__init__.py\u001b[0m in \u001b[0;36mwrapper\u001b[0;34m(self, other)\u001b[0m\n\u001b[1;32m    368\u001b[0m         \u001b[0mrvalues\u001b[0m \u001b[0;34m=\u001b[0m \u001b[0mextract_array\u001b[0m\u001b[0;34m(\u001b[0m\u001b[0mother\u001b[0m\u001b[0;34m,\u001b[0m \u001b[0mextract_numpy\u001b[0m\u001b[0;34m=\u001b[0m\u001b[0;32mTrue\u001b[0m\u001b[0;34m)\u001b[0m\u001b[0;34m\u001b[0m\u001b[0;34m\u001b[0m\u001b[0m\n\u001b[1;32m    369\u001b[0m \u001b[0;34m\u001b[0m\u001b[0m\n\u001b[0;32m--> 370\u001b[0;31m         \u001b[0mres_values\u001b[0m \u001b[0;34m=\u001b[0m \u001b[0mcomparison_op\u001b[0m\u001b[0;34m(\u001b[0m\u001b[0mlvalues\u001b[0m\u001b[0;34m,\u001b[0m \u001b[0mrvalues\u001b[0m\u001b[0;34m,\u001b[0m \u001b[0mop\u001b[0m\u001b[0;34m)\u001b[0m\u001b[0;34m\u001b[0m\u001b[0;34m\u001b[0m\u001b[0m\n\u001b[0m\u001b[1;32m    371\u001b[0m \u001b[0;34m\u001b[0m\u001b[0m\n\u001b[1;32m    372\u001b[0m         \u001b[0;32mreturn\u001b[0m \u001b[0mself\u001b[0m\u001b[0;34m.\u001b[0m\u001b[0m_construct_result\u001b[0m\u001b[0;34m(\u001b[0m\u001b[0mres_values\u001b[0m\u001b[0;34m,\u001b[0m \u001b[0mname\u001b[0m\u001b[0;34m=\u001b[0m\u001b[0mres_name\u001b[0m\u001b[0;34m)\u001b[0m\u001b[0;34m\u001b[0m\u001b[0;34m\u001b[0m\u001b[0m\n",
            "\u001b[0;32m/usr/local/lib/python3.7/dist-packages/pandas/core/ops/array_ops.py\u001b[0m in \u001b[0;36mcomparison_op\u001b[0;34m(left, right, op)\u001b[0m\n\u001b[1;32m    239\u001b[0m     \u001b[0;32melif\u001b[0m \u001b[0mis_numeric_v_string_like\u001b[0m\u001b[0;34m(\u001b[0m\u001b[0mlvalues\u001b[0m\u001b[0;34m,\u001b[0m \u001b[0mrvalues\u001b[0m\u001b[0;34m)\u001b[0m\u001b[0;34m:\u001b[0m\u001b[0;34m\u001b[0m\u001b[0;34m\u001b[0m\u001b[0m\n\u001b[1;32m    240\u001b[0m         \u001b[0;31m# GH#36377 going through the numexpr path would incorrectly raise\u001b[0m\u001b[0;34m\u001b[0m\u001b[0;34m\u001b[0m\u001b[0;34m\u001b[0m\u001b[0m\n\u001b[0;32m--> 241\u001b[0;31m         \u001b[0;32mreturn\u001b[0m \u001b[0minvalid_comparison\u001b[0m\u001b[0;34m(\u001b[0m\u001b[0mlvalues\u001b[0m\u001b[0;34m,\u001b[0m \u001b[0mrvalues\u001b[0m\u001b[0;34m,\u001b[0m \u001b[0mop\u001b[0m\u001b[0;34m)\u001b[0m\u001b[0;34m\u001b[0m\u001b[0;34m\u001b[0m\u001b[0m\n\u001b[0m\u001b[1;32m    242\u001b[0m \u001b[0;34m\u001b[0m\u001b[0m\n\u001b[1;32m    243\u001b[0m     \u001b[0;32melif\u001b[0m \u001b[0mis_object_dtype\u001b[0m\u001b[0;34m(\u001b[0m\u001b[0mlvalues\u001b[0m\u001b[0;34m.\u001b[0m\u001b[0mdtype\u001b[0m\u001b[0;34m)\u001b[0m\u001b[0;34m:\u001b[0m\u001b[0;34m\u001b[0m\u001b[0;34m\u001b[0m\u001b[0m\n",
            "\u001b[0;32m/usr/local/lib/python3.7/dist-packages/pandas/core/ops/invalid.py\u001b[0m in \u001b[0;36minvalid_comparison\u001b[0;34m(left, right, op)\u001b[0m\n\u001b[1;32m     32\u001b[0m     \u001b[0;32melse\u001b[0m\u001b[0;34m:\u001b[0m\u001b[0;34m\u001b[0m\u001b[0;34m\u001b[0m\u001b[0m\n\u001b[1;32m     33\u001b[0m         \u001b[0mtyp\u001b[0m \u001b[0;34m=\u001b[0m \u001b[0mtype\u001b[0m\u001b[0;34m(\u001b[0m\u001b[0mright\u001b[0m\u001b[0;34m)\u001b[0m\u001b[0;34m.\u001b[0m\u001b[0m__name__\u001b[0m\u001b[0;34m\u001b[0m\u001b[0;34m\u001b[0m\u001b[0m\n\u001b[0;32m---> 34\u001b[0;31m         \u001b[0;32mraise\u001b[0m \u001b[0mTypeError\u001b[0m\u001b[0;34m(\u001b[0m\u001b[0;34mf\"Invalid comparison between dtype={left.dtype} and {typ}\"\u001b[0m\u001b[0;34m)\u001b[0m\u001b[0;34m\u001b[0m\u001b[0;34m\u001b[0m\u001b[0m\n\u001b[0m\u001b[1;32m     35\u001b[0m     \u001b[0;32mreturn\u001b[0m \u001b[0mres_values\u001b[0m\u001b[0;34m\u001b[0m\u001b[0;34m\u001b[0m\u001b[0m\n\u001b[1;32m     36\u001b[0m \u001b[0;34m\u001b[0m\u001b[0m\n",
            "\u001b[0;31mTypeError\u001b[0m: Invalid comparison between dtype=float64 and str"
          ]
        }
      ]
    },
    {
      "cell_type": "code",
      "metadata": {
        "id": "o_VxPziqEWzC"
      },
      "source": [
        ""
      ],
      "execution_count": null,
      "outputs": []
    },
    {
      "cell_type": "code",
      "metadata": {
        "id": "3Yhwz_jfVxox"
      },
      "source": [
        "'''\n",
        "Wald's Test, Z-test, and t-test\n",
        "'''\n",
        "import pandas as pd\n",
        "import numpy as np\n",
        "state = pd.read_csv('23.csv')"
      ],
      "execution_count": null,
      "outputs": []
    },
    {
      "cell_type": "code",
      "metadata": {
        "id": "dOUxxw1GWvio"
      },
      "source": [
        "state['Date'] = pd.to_datetime(state['Date'])  \n",
        "february = (state['Date'] >= '2021-02-01') & (state['Date'] <= '2021-02-28')\n",
        "march = (state['Date'] >= '2021-03-01') & (state['Date'] <= '2021-03-31')"
      ],
      "execution_count": null,
      "outputs": []
    },
    {
      "cell_type": "code",
      "metadata": {
        "id": "LcD0DL7ZXP3r"
      },
      "source": [
        "state_feb = state[february]\n",
        "state_march = state[march]\n",
        "\n",
        "cases_VA_feb = state_feb[['Date', 'VA confirmed']]\n",
        "cases_count_VA_feb = cases_VA_feb['VA confirmed']\n",
        "\n",
        "deaths_VA_feb = state_feb[['Date', 'VA deaths']]\n",
        "deaths_count_VA_feb = deaths_VA_feb['VA deaths']\n",
        "\n",
        "cases_UT_feb = state_feb[['Date', 'UT confirmed']]\n",
        "cases_count_UT_feb = cases_UT_feb['UT confirmed']\n",
        "\n",
        "deaths_UT_feb = state_feb[['Date', 'UT deaths']]\n",
        "deaths_count_UT_feb = deaths_UT_feb['UT deaths']\n",
        "\n",
        "cases_VA_mar = state_march[['Date', 'VA confirmed']]\n",
        "cases_count_VA_mar = cases_VA_mar['VA confirmed']\n",
        "\n",
        "deaths_VA_mar = state_march[['Date', 'VA deaths']]\n",
        "deaths_count_VA_mar = deaths_VA_mar['VA deaths']\n",
        "\n",
        "cases_UT_mar = state_march[['Date', 'UT confirmed']]\n",
        "cases_count_UT_mar = cases_UT_mar['UT confirmed']\n",
        "\n",
        "deaths_UT_mar = state_march[['Date', 'UT deaths']]\n",
        "deaths_count_UT_mar = deaths_UT_mar['UT deaths']"
      ],
      "execution_count": null,
      "outputs": []
    },
    {
      "cell_type": "code",
      "metadata": {
        "id": "eukcExOjY5K6"
      },
      "source": [
        "def walds_one(feb, march):\n",
        "  theta_hat = np.mean(feb)\n",
        "  theta_0 = np.mean(march)\n",
        "\n",
        "  se = np.sqrt(theta_hat / len(march))\n",
        "\n",
        "  walds_statistic = (theta_hat - theta_0) / se\n",
        "\n",
        "  if np.abs(walds_statistic) > 1.96:\n",
        "    print(\"|W| = \", np.abs(walds_statistic), \" > 1.96, therefore reject the Null Hypothesis\")\n",
        "  else:\n",
        "    print(\"|W| = \", np.abs(walds_statistic), \" <= 1.96, therefore accept the Null Hypothesis\")\n"
      ],
      "execution_count": null,
      "outputs": []
    },
    {
      "cell_type": "code",
      "metadata": {
        "colab": {
          "base_uri": "https://localhost:8080/"
        },
        "id": "tCkDWc5rczKZ",
        "outputId": "9e1da0ef-7fbf-4529-9378-1d1d2f6bc74c"
      },
      "source": [
        "walds_one(deaths_count_UT_feb, deaths_count_UT_mar)"
      ],
      "execution_count": null,
      "outputs": [
        {
          "output_type": "stream",
          "text": [
            "|W| =  31.172891168763257  > 1.96, therefore reject the Null Hypothesis\n"
          ],
          "name": "stdout"
        }
      ]
    },
    {
      "cell_type": "code",
      "metadata": {
        "colab": {
          "base_uri": "https://localhost:8080/"
        },
        "id": "RcCE6gsWeeLw",
        "outputId": "ad7d6fd9-1880-416f-af54-3b6f5d3a6df0"
      },
      "source": [
        "walds_one(cases_count_UT_feb, cases_count_UT_mar)"
      ],
      "execution_count": null,
      "outputs": [
        {
          "output_type": "stream",
          "text": [
            "|W| =  169.5916851488749  > 1.96, therefore reject the Null Hypothesis\n"
          ],
          "name": "stdout"
        }
      ]
    },
    {
      "cell_type": "code",
      "metadata": {
        "colab": {
          "base_uri": "https://localhost:8080/"
        },
        "id": "SDe_s8Mge57h",
        "outputId": "363b149d-1d99-4b0f-ee40-ea79de47029b"
      },
      "source": [
        "walds_one(cases_count_VA_feb, cases_count_VA_mar)"
      ],
      "execution_count": null,
      "outputs": [
        {
          "output_type": "stream",
          "text": [
            "|W| =  386.3680317489496  > 1.96, therefore reject the Null Hypothesis\n"
          ],
          "name": "stdout"
        }
      ]
    },
    {
      "cell_type": "code",
      "metadata": {
        "colab": {
          "base_uri": "https://localhost:8080/"
        },
        "id": "UTInduabe2o6",
        "outputId": "2ad50f5c-0214-47ef-93af-b6a7d2a9756e"
      },
      "source": [
        "walds_one(deaths_count_VA_feb, deaths_count_VA_mar)"
      ],
      "execution_count": null,
      "outputs": [
        {
          "output_type": "stream",
          "text": [
            "|W| =  181.22032132577195  > 1.96, therefore reject the Null Hypothesis\n"
          ],
          "name": "stdout"
        }
      ]
    },
    {
      "cell_type": "code",
      "metadata": {
        "id": "fetKWKuce9F5"
      },
      "source": [
        "def z_one(original, feb, march):\n",
        "  #Z test requires true standard deviation, so we need to find that\n",
        "  sigma = np.std(original)\n",
        "\n",
        "  x_bar = np.mean(feb)\n",
        "  mu_0 = np.mean(march)\n",
        "\n",
        "\n",
        "  sigma_over_sqrtn = sigma / np.sqrt(len(feb))\n",
        "\n",
        "  z_statistic = (x_bar - mu_0) / sigma_over_sqrtn\n",
        "\n",
        "  if np.abs(z_statistic) > 1.96:\n",
        "    print(\"|Z| = \", np.abs(z_statistic), \"> 1.96 therefore reject the null hypothesis\")\n",
        "  else:\n",
        "    print(\"|Z| = \", np.abs(z_statistic), \"<= 1.96therefore accept the null hypothesis\")\n"
      ],
      "execution_count": null,
      "outputs": []
    },
    {
      "cell_type": "code",
      "metadata": {
        "colab": {
          "base_uri": "https://localhost:8080/"
        },
        "id": "1D-NKxlVjokD",
        "outputId": "d4c7377d-e95c-477e-897d-68c0352bbeae"
      },
      "source": [
        "z_one(state['VA confirmed'], cases_count_VA_feb, cases_count_VA_mar)"
      ],
      "execution_count": null,
      "outputs": [
        {
          "output_type": "stream",
          "text": [
            "|Z| =  1.371705720445352 therefore accept the null hypothesis\n"
          ],
          "name": "stdout"
        }
      ]
    },
    {
      "cell_type": "code",
      "metadata": {
        "colab": {
          "base_uri": "https://localhost:8080/"
        },
        "id": "W0tZt116j2NU",
        "outputId": "9bdd1a44-4c3b-49b5-fa0d-3257a22b9873"
      },
      "source": [
        "z_one(state['VA deaths'], deaths_count_VA_feb, deaths_count_VA_mar)"
      ],
      "execution_count": null,
      "outputs": [
        {
          "output_type": "stream",
          "text": [
            "|Z| =  5.108579550253789 therefore reject the null hypothesis\n"
          ],
          "name": "stdout"
        }
      ]
    },
    {
      "cell_type": "code",
      "metadata": {
        "colab": {
          "base_uri": "https://localhost:8080/"
        },
        "id": "6DPxoAsikmZv",
        "outputId": "22f07641-e233-4301-c6a9-537f6d9b743e"
      },
      "source": [
        "z_one(state['UT confirmed'], cases_count_UT_feb, cases_count_UT_mar)"
      ],
      "execution_count": null,
      "outputs": [
        {
          "output_type": "stream",
          "text": [
            "|Z| =  0.7020619767080907 therefore accept the null hypothesis\n"
          ],
          "name": "stdout"
        }
      ]
    },
    {
      "cell_type": "code",
      "metadata": {
        "colab": {
          "base_uri": "https://localhost:8080/"
        },
        "id": "RAtSPflMkwnw",
        "outputId": "1aef8e84-719a-4007-a4f7-0d2cc1131f17"
      },
      "source": [
        "z_one(state['UT deaths'], deaths_count_UT_feb, deaths_count_UT_mar)"
      ],
      "execution_count": null,
      "outputs": [
        {
          "output_type": "stream",
          "text": [
            "|Z| =  1.8576534274536443 therefore accept the null hypothesis\n"
          ],
          "name": "stdout"
        }
      ]
    },
    {
      "cell_type": "code",
      "metadata": {
        "id": "7nkhoKCXk0xo"
      },
      "source": [
        "def walds_two(feb, march):\n",
        "  x_bar = np.mean(feb)\n",
        "  y_bar = np.mean(march)\n",
        "  delta_hat = x_bar - y_bar\n",
        "\n",
        "  #Since we're using Poisson MLE, variance will be lambda / n\n",
        "  \n",
        "  se_hat = np.sqrt((x_bar / len(feb)) + (y_bar / len(march)))\n",
        "\n",
        "  walds_statistic = delta_hat / se_hat\n",
        "\n",
        "  if np.abs(walds_statistic) > 1.96:\n",
        "    print(\"|W| = \", np.abs(walds_statistic), \" > 1.96, therefore reject the Null Hypothesis\")\n",
        "  else:\n",
        "    print(\"|W| = \", np.abs(walds_statistic), \" <= 1.96, therefore accept the Null Hypothesis\")\n"
      ],
      "execution_count": null,
      "outputs": []
    },
    {
      "cell_type": "code",
      "metadata": {
        "colab": {
          "base_uri": "https://localhost:8080/"
        },
        "id": "StgS35fXo5fQ",
        "outputId": "e2e159e9-e4e1-4d23-bde6-04b169fae38c"
      },
      "source": [
        "walds_two(cases_count_UT_feb, cases_count_UT_mar)"
      ],
      "execution_count": null,
      "outputs": [
        {
          "output_type": "stream",
          "text": [
            "|W| =  115.44969347830576  > 1.96, therefore reject the Null Hypothesis\n"
          ],
          "name": "stdout"
        }
      ]
    },
    {
      "cell_type": "code",
      "metadata": {
        "colab": {
          "base_uri": "https://localhost:8080/"
        },
        "id": "D9ixObKRo2MX",
        "outputId": "73b9ea40-a574-4339-a4b8-883296559794"
      },
      "source": [
        "walds_two(deaths_count_UT_feb, deaths_count_UT_mar)"
      ],
      "execution_count": null,
      "outputs": [
        {
          "output_type": "stream",
          "text": [
            "|W| =  20.83218579296163  > 1.96, therefore reject the Null Hypothesis\n"
          ],
          "name": "stdout"
        }
      ]
    },
    {
      "cell_type": "code",
      "metadata": {
        "colab": {
          "base_uri": "https://localhost:8080/"
        },
        "id": "oKwWQdWTo_Zv",
        "outputId": "82d4a2b7-2cc6-4d52-8903-77742ef01433"
      },
      "source": [
        "walds_two(cases_count_VA_feb, cases_count_VA_mar)"
      ],
      "execution_count": null,
      "outputs": [
        {
          "output_type": "stream",
          "text": [
            "|W| =  260.4310819769535  > 1.96, therefore reject the Null Hypothesis\n"
          ],
          "name": "stdout"
        }
      ]
    },
    {
      "cell_type": "code",
      "metadata": {
        "colab": {
          "base_uri": "https://localhost:8080/"
        },
        "id": "6DXcdQd-pCpS",
        "outputId": "8ae5efcc-b459-4b7b-c0ef-7cb65288b21a"
      },
      "source": [
        "walds_two(deaths_count_VA_feb, deaths_count_VA_mar)"
      ],
      "execution_count": null,
      "outputs": [
        {
          "output_type": "stream",
          "text": [
            "|W| =  114.81653434010379  > 1.96, therefore reject the Null Hypothesis\n"
          ],
          "name": "stdout"
        }
      ]
    },
    {
      "cell_type": "code",
      "metadata": {
        "id": "z9NNXugwpFoR"
      },
      "source": [
        "def t_one(feb, march):\n",
        "  x_bar = np.mean(feb)\n",
        "  mu_0 = np.mean(march)\n",
        "\n",
        "  ssd = np.std(feb)\n",
        "\n",
        "  s_over_n = ssd / np.sqrt(len(feb))\n",
        "  t = (x_bar - mu_0) / s_over_n\n",
        "\n",
        "  if np.abs(t) > 1.703:\n",
        "    print(\"|t| = \", np.abs(t), \"> 1.703 therefore reject the null hypothesis\")\n",
        "  else:\n",
        "    print(\"|t| = \", np.abs(t), \"<= 1.703 therefor accept the null hypothesis\")"
      ],
      "execution_count": null,
      "outputs": []
    },
    {
      "cell_type": "code",
      "metadata": {
        "colab": {
          "base_uri": "https://localhost:8080/"
        },
        "id": "zQUrK6hNOp0v",
        "outputId": "83e5ecc2-e52b-4a3f-d722-fd1c4fe7ba6c"
      },
      "source": [
        "t_one(cases_count_UT_feb, cases_count_UT_mar)"
      ],
      "execution_count": null,
      "outputs": [
        {
          "output_type": "stream",
          "text": [
            "|t| =  13.711719528357026 > 1.703 therefore reject the null hypothesis\n"
          ],
          "name": "stdout"
        }
      ]
    },
    {
      "cell_type": "code",
      "metadata": {
        "colab": {
          "base_uri": "https://localhost:8080/"
        },
        "id": "Em3egG_oOtMr",
        "outputId": "626a90e0-74e5-4121-f3a3-752ba1146a18"
      },
      "source": [
        "t_one(deaths_count_UT_feb, deaths_count_UT_mar)"
      ],
      "execution_count": null,
      "outputs": [
        {
          "output_type": "stream",
          "text": [
            "|t| =  17.85120765089191 > 1.703 therefore reject the null hypothesis\n"
          ],
          "name": "stdout"
        }
      ]
    },
    {
      "cell_type": "code",
      "metadata": {
        "colab": {
          "base_uri": "https://localhost:8080/"
        },
        "id": "hPdZPNFOO2KD",
        "outputId": "fec3a299-4dcb-4871-e7cd-1e887aafd84a"
      },
      "source": [
        "t_one(cases_count_VA_feb, cases_count_VA_mar)"
      ],
      "execution_count": null,
      "outputs": [
        {
          "output_type": "stream",
          "text": [
            "|t| =  13.113863589190032 > 1.703 therefore reject the null hypothesis\n"
          ],
          "name": "stdout"
        }
      ]
    },
    {
      "cell_type": "code",
      "metadata": {
        "colab": {
          "base_uri": "https://localhost:8080/"
        },
        "id": "Fa0knh5lO4JD",
        "outputId": "a0e225f8-f4a6-4232-f31e-33fcd53b5396"
      },
      "source": [
        "t_one(deaths_count_VA_feb, deaths_count_VA_mar)"
      ],
      "execution_count": null,
      "outputs": [
        {
          "output_type": "stream",
          "text": [
            "|t| =  26.739252053774308 > 1.703 therefore reject the null hypothesis\n"
          ],
          "name": "stdout"
        }
      ]
    },
    {
      "cell_type": "code",
      "metadata": {
        "id": "H84V7-xNO7_z"
      },
      "source": [
        "def t_two_unpaired(feb, march):\n",
        "  x_bar = np.mean(feb)\n",
        "  y_bar = np.mean(march)\n",
        "  d_bar = x_bar - y_bar\n",
        "\n",
        "  sx = np.var(feb) / len(feb)\n",
        "  sy = np.var(march) / len(march)\n",
        "  sx_sy = np.sqrt(sx + sy)\n",
        "\n",
        "  t = d_bar / sx_sy\n",
        "\n",
        "  if np.abs(t) > 1.672:\n",
        "    print(\"|t| = \", np.abs(t), \"> 1.672 therefore reject the null hypothesis\")\n",
        "  else:\n",
        "    print(\"|t| = \", np.abs(t), \"<= 1.672 therefore reject the null hypothesis\")\n"
      ],
      "execution_count": null,
      "outputs": []
    },
    {
      "cell_type": "code",
      "metadata": {
        "colab": {
          "base_uri": "https://localhost:8080/"
        },
        "id": "6n41tzevv0bD",
        "outputId": "07308b74-77a5-4ccf-a7e3-27c96fc8b03f"
      },
      "source": [
        "t_two_unpaired(cases_count_UT_feb, cases_count_UT_mar)"
      ],
      "execution_count": null,
      "outputs": [
        {
          "output_type": "stream",
          "text": [
            "|t| =  11.910784809405355 > 1.672 therefore reject the null hypothesis\n"
          ],
          "name": "stdout"
        }
      ]
    },
    {
      "cell_type": "code",
      "metadata": {
        "colab": {
          "base_uri": "https://localhost:8080/"
        },
        "id": "60IC3t_Fv-0M",
        "outputId": "e5e5d496-a0f4-4481-fc40-a80352697dc4"
      },
      "source": [
        "t_two_unpaired(deaths_count_UT_feb, deaths_count_UT_mar)"
      ],
      "execution_count": null,
      "outputs": [
        {
          "output_type": "stream",
          "text": [
            "|t| =  14.159815154650781 > 1.672 therefore reject the null hypothesis\n"
          ],
          "name": "stdout"
        }
      ]
    },
    {
      "cell_type": "code",
      "metadata": {
        "colab": {
          "base_uri": "https://localhost:8080/"
        },
        "id": "_2xFLtd-wBkk",
        "outputId": "027cfe73-ba33-45c4-caa1-5427b13e0770"
      },
      "source": [
        "t_two_unpaired(cases_count_VA_feb, cases_count_VA_mar)"
      ],
      "execution_count": null,
      "outputs": [
        {
          "output_type": "stream",
          "text": [
            "|t| =  11.357687622323128 > 1.672 therefore reject the null hypothesis\n"
          ],
          "name": "stdout"
        }
      ]
    },
    {
      "cell_type": "code",
      "metadata": {
        "colab": {
          "base_uri": "https://localhost:8080/"
        },
        "id": "8bL9lV2jwDXc",
        "outputId": "30c26a31-3d18-4a51-a7fb-f87c6b8cc973"
      },
      "source": [
        "t_two_unpaired(deaths_count_VA_feb, deaths_count_VA_mar)"
      ],
      "execution_count": null,
      "outputs": [
        {
          "output_type": "stream",
          "text": [
            "|t| =  21.770162931599856 > 1.672 therefore reject the null hypothesis\n"
          ],
          "name": "stdout"
        }
      ]
    },
    {
      "cell_type": "code",
      "metadata": {
        "id": "UYYplDd9wGb8"
      },
      "source": [
        ""
      ],
      "execution_count": null,
      "outputs": []
    }
  ]
}