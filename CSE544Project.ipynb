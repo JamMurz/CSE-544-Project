{
  "nbformat": 4,
  "nbformat_minor": 0,
  "metadata": {
    "colab": {
      "name": "CSE544Project.ipynb",
      "provenance": [],
      "collapsed_sections": [],
      "toc_visible": true
    },
    "kernelspec": {
      "name": "python3",
      "display_name": "Python 3"
    },
    "language_info": {
      "name": "python"
    }
  },
  "cells": [
    {
      "cell_type": "markdown",
      "metadata": {
        "id": "nEdXvv4oUgqS"
      },
      "source": [
        "# Part 1: Cleaning Dataset"
      ]
    },
    {
      "cell_type": "code",
      "metadata": {
        "id": "f8eqy_XyWoe9"
      },
      "source": [
        "import pandas as pd\n",
        "import numpy as np\n",
        "import matplotlib.pyplot as plt\n",
        "from scipy.stats import gamma\n",
        "import math"
      ],
      "execution_count": null,
      "outputs": []
    },
    {
      "cell_type": "code",
      "metadata": {
        "colab": {
          "base_uri": "https://localhost:8080/"
        },
        "id": "A_o5S1I6YGhc",
        "outputId": "33dac7a2-85d6-4fe6-f2ac-6f7c63bbd8b0"
      },
      "source": [
        "df = pd.read_csv('23.csv',header=0, names=['date','UT_conf','VA_conf', 'UT_death', 'VA_death'])\n",
        "df[['UT_conf','VA_conf', 'UT_death', 'VA_death']] = df[['UT_conf','VA_conf', 'UT_death', 'VA_death']].diff().fillna(0)\n",
        "print(df)"
      ],
      "execution_count": null,
      "outputs": [
        {
          "output_type": "stream",
          "text": [
            "           date  UT_conf  VA_conf  UT_death  VA_death\n",
            "0    2020-01-22      0.0      0.0       0.0       0.0\n",
            "1    2020-01-23      0.0      0.0       0.0       0.0\n",
            "2    2020-01-24      0.0      0.0       0.0       0.0\n",
            "3    2020-01-25      0.0      0.0       0.0       0.0\n",
            "4    2020-01-26      0.0      0.0       0.0       0.0\n",
            "..          ...      ...      ...       ...       ...\n",
            "433  2021-03-30    371.0   1444.0       3.0      17.0\n",
            "434  2021-03-31    514.0   1057.0       4.0       8.0\n",
            "435  2021-04-01    487.0   1847.0       2.0      11.0\n",
            "436  2021-04-02    422.0   1523.0       5.0      11.0\n",
            "437  2021-04-03    447.0   1523.0       1.0       6.0\n",
            "\n",
            "[438 rows x 5 columns]\n"
          ],
          "name": "stdout"
        }
      ]
    },
    {
      "cell_type": "code",
      "metadata": {
        "colab": {
          "base_uri": "https://localhost:8080/"
        },
        "id": "s1V4aTwXYRnM",
        "outputId": "15088691-fcca-4773-bfdb-d895bab94489"
      },
      "source": [
        "  print(\"Outliers\")\n",
        "  labels = ['UT_conf','VA_conf', 'UT_death', 'VA_death']\n",
        "  for label in labels:\n",
        "      print(label)\n",
        "      Q1 = df[label].quantile(0.25)\n",
        "      Q3 = df[label].quantile(0.75)\n",
        "      IQR = Q3 - Q1\n",
        "      small_outlier = df.query('{} < (@Q1 - 1.5 * @IQR)'.format(label))\n",
        "      large_outlier = df.query('{} > (@Q3 + 1.5 * @IQR)'.format(label))\n",
        "      if len(small_outlier) > 0:\n",
        "          print('BELOW Q1')\n",
        "          print(small_outlier[['date', label]])\n",
        "      if len(large_outlier) > 0:\n",
        "          print('ABOVE Q3')\n",
        "          print(large_outlier[['date', label]])\n",
        "      print()"
      ],
      "execution_count": null,
      "outputs": [
        {
          "output_type": "stream",
          "text": [
            "Outliers\n",
            "UT_conf\n",
            "ABOVE Q3\n",
            "           date  UT_conf\n",
            "277  2020-10-25   3270.0\n",
            "288  2020-11-05   2785.0\n",
            "289  2020-11-06   2930.0\n",
            "290  2020-11-07   3047.0\n",
            "293  2020-11-10   2760.0\n",
            "295  2020-11-12   3791.0\n",
            "297  2020-11-14   5026.0\n",
            "300  2020-11-17   3212.0\n",
            "301  2020-11-18   3088.0\n",
            "302  2020-11-19   3955.0\n",
            "303  2020-11-20   4563.0\n",
            "304  2020-11-21   3379.0\n",
            "305  2020-11-22   3136.0\n",
            "310  2020-11-27   5614.0\n",
            "315  2020-12-02   3934.0\n",
            "316  2020-12-03   4005.0\n",
            "317  2020-12-04   3055.0\n",
            "318  2020-12-05   3521.0\n",
            "323  2020-12-10   3362.0\n",
            "325  2020-12-12   3704.0\n",
            "329  2020-12-16   2888.0\n",
            "330  2020-12-17   3214.0\n",
            "341  2020-12-28  15541.0\n",
            "343  2020-12-30   2806.0\n",
            "344  2020-12-31   4545.0\n",
            "346  2021-01-02   5261.0\n",
            "350  2021-01-06   3907.0\n",
            "351  2021-01-07   4642.0\n",
            "352  2021-01-08   3659.0\n",
            "357  2021-01-13   5053.0\n",
            "358  2021-01-14   2821.0\n",
            "\n",
            "VA_conf\n",
            "ABOVE Q3\n",
            "           date  VA_conf\n",
            "318  2020-12-05   3735.0\n",
            "319  2020-12-06   3862.0\n",
            "320  2020-12-07   3764.0\n",
            "321  2020-12-08   3896.0\n",
            "322  2020-12-09   4491.0\n",
            "323  2020-12-10   3937.0\n",
            "324  2020-12-11   3400.0\n",
            "325  2020-12-12   4173.0\n",
            "329  2020-12-16   3928.0\n",
            "330  2020-12-17   7152.0\n",
            "331  2020-12-18   3584.0\n",
            "333  2020-12-20   3877.0\n",
            "334  2020-12-21   4038.0\n",
            "335  2020-12-22   3593.0\n",
            "336  2020-12-23   4652.0\n",
            "337  2020-12-24   4784.0\n",
            "338  2020-12-25   4078.0\n",
            "340  2020-12-27   3998.0\n",
            "342  2020-12-29   4124.0\n",
            "343  2020-12-30   4047.0\n",
            "344  2020-12-31   5224.0\n",
            "345  2021-01-01   5193.0\n",
            "346  2021-01-02   3993.0\n",
            "347  2021-01-03   4990.0\n",
            "348  2021-01-04   3742.0\n",
            "349  2021-01-05   4427.0\n",
            "350  2021-01-06   5387.0\n",
            "351  2021-01-07   5378.0\n",
            "352  2021-01-08   5239.0\n",
            "353  2021-01-09   5798.0\n",
            "354  2021-01-10   5141.0\n",
            "355  2021-01-11   4517.0\n",
            "356  2021-01-12   4551.0\n",
            "357  2021-01-13   4621.0\n",
            "358  2021-01-14   5288.0\n",
            "359  2021-01-15   4788.0\n",
            "360  2021-01-16   6769.0\n",
            "361  2021-01-17   9913.0\n",
            "362  2021-01-18   7230.0\n",
            "363  2021-01-19   4536.0\n",
            "364  2021-01-20   4525.0\n",
            "365  2021-01-21   3990.0\n",
            "366  2021-01-22   4154.0\n",
            "367  2021-01-23   4886.0\n",
            "368  2021-01-24   3782.0\n",
            "369  2021-01-25   6165.0\n",
            "370  2021-01-26   4735.0\n",
            "371  2021-01-27   5233.0\n",
            "372  2021-01-28   5126.0\n",
            "373  2021-01-29   4233.0\n",
            "374  2021-01-30   4323.0\n",
            "380  2021-02-05   5069.0\n",
            "381  2021-02-06   4712.0\n",
            "384  2021-02-09   3330.0\n",
            "386  2021-02-11   3698.0\n",
            "\n",
            "UT_death\n",
            "ABOVE Q3\n",
            "           date  UT_death\n",
            "305  2020-11-22      19.0\n",
            "308  2020-11-25      26.0\n",
            "314  2020-12-01      20.0\n",
            "321  2020-12-08      23.0\n",
            "322  2020-12-09      23.0\n",
            "323  2020-12-10      21.0\n",
            "329  2020-12-16      21.0\n",
            "330  2020-12-17      29.0\n",
            "341  2020-12-28      65.0\n",
            "343  2020-12-30      21.0\n",
            "346  2021-01-02      22.0\n",
            "350  2021-01-06      18.0\n",
            "351  2021-01-07      30.0\n",
            "352  2021-01-08      22.0\n",
            "356  2021-01-12      26.0\n",
            "357  2021-01-13      25.0\n",
            "365  2021-01-21      30.0\n",
            "366  2021-01-22      24.0\n",
            "373  2021-01-29      36.0\n",
            "377  2021-02-02      18.0\n",
            "380  2021-02-05      31.0\n",
            "394  2021-02-19      22.0\n",
            "401  2021-02-26      18.0\n",
            "403  2021-02-28      27.0\n",
            "414  2021-03-11      24.0\n",
            "430  2021-03-27      24.0\n",
            "\n",
            "VA_death\n",
            "ABOVE Q3\n",
            "           date  VA_death\n",
            "237  2020-09-15      96.0\n",
            "330  2020-12-17      93.0\n",
            "353  2021-01-09      69.0\n",
            "356  2021-01-12      84.0\n",
            "357  2021-01-13      74.0\n",
            "358  2021-01-14      74.0\n",
            "365  2021-01-21      78.0\n",
            "367  2021-01-23      76.0\n",
            "370  2021-01-26      93.0\n",
            "372  2021-01-28      80.0\n",
            "373  2021-01-29      71.0\n",
            "374  2021-01-30      70.0\n",
            "379  2021-02-04      75.0\n",
            "380  2021-02-05      82.0\n",
            "384  2021-02-09      78.0\n",
            "395  2021-02-20      95.0\n",
            "396  2021-02-21     129.0\n",
            "397  2021-02-22     155.0\n",
            "398  2021-02-23     171.0\n",
            "399  2021-02-24     147.0\n",
            "400  2021-02-25     154.0\n",
            "401  2021-02-26     235.0\n",
            "402  2021-02-27     182.0\n",
            "403  2021-02-28     169.0\n",
            "404  2021-03-01     231.0\n",
            "405  2021-03-02     160.0\n",
            "406  2021-03-03     384.0\n",
            "408  2021-03-05      73.0\n",
            "409  2021-03-06      90.0\n",
            "410  2021-03-07      77.0\n",
            "411  2021-03-08      87.0\n",
            "412  2021-03-09     111.0\n",
            "\n"
          ],
          "name": "stdout"
        }
      ]
    },
    {
      "cell_type": "markdown",
      "metadata": {
        "id": "Lin0kWsJU1TB"
      },
      "source": [
        "From the values above, we found that most of our dataset contains outliers. Initially, this was quite surprising to us and we thought something must have been done wrong. However, after looking at the COVID 19 dataset, it actually seems to be the case that these two states did indeed have outliers and both have unique ways of reporting their data.\n",
        "\n",
        "We begin with Virginia. According to the data above, we see that January, February, and March has the majority of the death outliers in the dataset. The Virginia deaths in January seemed to have been reported sporadically, where some days there were dips (i.e. 0 deaths reported, 3 deaths reported), and then massive jumps. If you search up COVID deaths in Virginia on Google, there are a lot of articles saying Virginia had data glitches which resulted in death \"data dumps\" in February and March. A lot of the deaths reported in February and March included these dumps, so it makes sense that there are so many outliers in the Virginia death dataset.\n",
        "\n",
        "Regarding the Virginia confirmed cases outliers, almost all of the outliers were in December and January. This corresponds with the winter surge in America. Interestingly enough, the data some days was also sporadic like the deaths data, where some days there were few cases and then a big spike. As the holiday season approached, there were also much lower confirmed cases on days like Christmas and New Years. This makes sense and happened not only in Virginia, but also across America. Finally, in January, there were massive spikes in data, specifically on January 17th. With these spikes also came much lower cases on preceeding on the next days, so it makes sense that we detected so many outliers for this month. Perhaps this could have something to do with the riots, election, and inauguration day since DC is nearby.\n",
        "\n",
        "Finally, we look at the outliers for Utah. Regarding the deaths in Utah, Utah has a very jagged trend line if you search up the Utah deaths graph on Google. There are a lot of days where Utah reports few deaths, and then it jumps up. We see this in November around Thanksgiving, and also in a lot of December and January. Utah's death graph has a lot of gaps where some days there are 0 deaths and other days it jumps up, so it makes sense that so many outliers were detected for Utah.\n",
        "\n",
        "Regarding cases in Utah, there is a similar trend too. For example, Utah reported 0 cases on Christmas and on January 1st, and then had resulting spikes the next couple of days. Perhaps this could be because Utah has a lot of Mormons and they closed all testing centers on Christmas and New Year's. The Utah cases data seems to be in general smoother than their deaths data, but there are once again days where they go from lower reporting to higher reporting. \n",
        "\n",
        "**Note: since there are too many outliers that were found from Tukey's Rule, we do not remove the outliers from the dataset and use the original dataset for our required inferences**"
      ]
    },
    {
      "cell_type": "markdown",
      "metadata": {
        "id": "XQw7EsqyacIP"
      },
      "source": [
        "# Part 2: Required Inferences"
      ]
    },
    {
      "cell_type": "markdown",
      "metadata": {
        "id": "QKaNlt1PahYj"
      },
      "source": [
        "## **A**: AR, EWMA, MSE, MAPE"
      ]
    },
    {
      "cell_type": "markdown",
      "metadata": {
        "id": "Erxb8lSCyxQ3"
      },
      "source": [
        "### EWMA"
      ]
    },
    {
      "cell_type": "code",
      "metadata": {
        "id": "upj_EzK8UQAp",
        "colab": {
          "base_uri": "https://localhost:8080/"
        },
        "outputId": "4aede5cf-1593-46c2-a29a-4724a0edb66f"
      },
      "source": [
        "import pandas as pd\n",
        "\n",
        "df = pd.read_csv('23.csv',header=0, names=['date','UT_conf','VA_conf', 'UT_death', 'VA_death'])\n",
        "df[['UT_conf','VA_conf', 'UT_death', 'VA_death']] = df[['UT_conf','VA_conf', 'UT_death', 'VA_death']].diff().fillna(0)\n",
        "df = df[(df['date'] >= '2020-08-01') & (df['date'] <= '2020-08-28')]\n",
        "\n",
        "for alpha in [0.5, 0.8]:\n",
        "    print('alpha =', alpha)\n",
        "\n",
        "    cols = ['UT_conf', 'VA_conf', 'UT_death', 'VA_death']\n",
        "    ewma = {}\n",
        "    mse = {}\n",
        "    mape = {}\n",
        "    for col in cols:\n",
        "        ewma[col] = training[col].tolist()[0]\n",
        "        mse[col] = 0\n",
        "        mape[col] = 0\n",
        "    # Calculate EWMA for the first three weeks of august\n",
        "    for i in range(1, 21):\n",
        "        for col in cols:\n",
        "            ewma[col] = alpha * df[col].tolist()[i] + (1 - alpha) * ewma[col]\n",
        "    for i in range(7):\n",
        "        print('Day 2' + str(2 + i))\n",
        "        for col in cols:\n",
        "            print(col, ewma[col])\n",
        "            sample = df[col].tolist()[21 + i]\n",
        "            # Calculate sum of squared errors\n",
        "            mse[col] += (ewma[col] - sample) ** 2\n",
        "            # Ignore 0 denominators\n",
        "            if sample != 0:\n",
        "                mape[col] += abs((sample - ewma[col]) / sample)\n",
        "            # Incorporate new sample into EWMA\n",
        "            ewma[col] = alpha * df[col].tolist()[21 + i] + (1 - alpha) * ewma[col]\n",
        "    print()\n",
        "\n",
        "    # Print accuracy results\n",
        "    for col in cols:\n",
        "        print(col, 'MSE:', mse[col] / 7.0)\n",
        "        print(col, 'MAPE:', mape[col] * 100.0 / 7.0)\n",
        "    print()"
      ],
      "execution_count": null,
      "outputs": [
        {
          "output_type": "stream",
          "text": [
            "alpha = 0.5\n",
            "Day 22\n",
            "UT_conf 449.93113136291504\n",
            "VA_conf 904.0607776641846\n",
            "UT_death 1.498978614807129\n",
            "VA_death 11.467790603637695\n",
            "Day 23\n",
            "UT_conf 408.4655656814575\n",
            "VA_conf 1058.0303888320923\n",
            "UT_death 4.7494893074035645\n",
            "VA_death 9.233895301818848\n",
            "Day 24\n",
            "UT_conf 340.73278284072876\n",
            "VA_conf 976.0151944160461\n",
            "UT_death 2.3747446537017822\n",
            "VA_death 16.616947650909424\n",
            "Day 25\n",
            "UT_conf 293.3663914203644\n",
            "VA_conf 820.0075972080231\n",
            "UT_death 3.187372326850891\n",
            "VA_death 10.308473825454712\n",
            "Day 26\n",
            "UT_conf 331.1831957101822\n",
            "VA_conf 912.5037986040115\n",
            "UT_death 5.093686163425446\n",
            "VA_death 16.654236912727356\n",
            "Day 27\n",
            "UT_conf 375.0915978550911\n",
            "VA_conf 867.7518993020058\n",
            "UT_death 4.046843081712723\n",
            "VA_death 18.827118456363678\n",
            "Day 28\n",
            "UT_conf 376.04579892754555\n",
            "VA_conf 994.3759496510029\n",
            "UT_death 3.5234215408563614\n",
            "VA_death 15.413559228181839\n",
            "\n",
            "UT_conf MSE: 6868.249511866323\n",
            "UT_conf MAPE: 22.56675818919756\n",
            "VA_conf MSE: 46542.94135335959\n",
            "VA_conf MAPE: 20.63685287536803\n",
            "UT_death MSE: 12.52929166613969\n",
            "UT_death MAPE: 41.8512900340922\n",
            "VA_death MSE: 97.33007033039794\n",
            "VA_death MAPE: 86.64664928419849\n",
            "\n",
            "alpha = 0.8\n",
            "Day 22\n",
            "UT_conf 490.5796127620181\n",
            "VA_conf 950.815607480566\n",
            "UT_death 0.3163906743685505\n",
            "VA_death 10.444182113430557\n",
            "Day 23\n",
            "UT_conf 391.71592255240364\n",
            "VA_conf 1159.7631214961132\n",
            "UT_death 6.46327813487371\n",
            "VA_death 7.688836422686112\n",
            "Day 24\n",
            "UT_conf 296.7431845104807\n",
            "VA_conf 947.1526242992227\n",
            "UT_death 1.2926556269747418\n",
            "VA_death 20.737767284537224\n",
            "Day 25\n",
            "UT_conf 256.14863690209614\n",
            "VA_conf 720.6305248598445\n",
            "UT_death 3.4585311253949484\n",
            "VA_death 7.347553456907444\n",
            "Day 26\n",
            "UT_conf 346.4297273804192\n",
            "VA_conf 948.1261049719689\n",
            "UT_death 6.29170622507899\n",
            "VA_death 19.86951069138149\n",
            "Day 27\n",
            "UT_conf 404.4859454760839\n",
            "VA_conf 848.0252209943939\n",
            "UT_death 3.658341245015798\n",
            "VA_death 20.7739021382763\n",
            "Day 28\n",
            "UT_conf 382.49718909521675\n",
            "VA_conf 1066.4050441988788\n",
            "UT_death 3.1316682490031598\n",
            "VA_death 13.754780427655259\n",
            "\n",
            "UT_conf MSE: 7272.563582304673\n",
            "UT_conf MAPE: 22.376088252382328\n",
            "VA_conf MSE: 56130.37164951825\n",
            "VA_conf MAPE: 23.863265213680524\n",
            "UT_death MSE: 18.958039279788146\n",
            "UT_death MAPE: 52.52824016692329\n",
            "VA_death MSE: 138.11454769741104\n",
            "VA_death MAPE: 103.19426016019078\n",
            "\n"
          ],
          "name": "stdout"
        }
      ]
    },
    {
      "cell_type": "markdown",
      "metadata": {
        "id": "AOuKJj3VEqj3"
      },
      "source": [
        "There were a few days in the last week of August where there were 0 new confirmed cases which had to be ignored in the MAPE calculation.\n",
        "\n",
        "Each day in the last week was incorporated into the prediction for the next day, which is how this analysis would be done in real time."
      ]
    },
    {
      "cell_type": "markdown",
      "metadata": {
        "id": "7ZTzUDPFyzZO"
      },
      "source": [
        "### AR"
      ]
    },
    {
      "cell_type": "code",
      "metadata": {
        "id": "bj0-Fukky2bC",
        "colab": {
          "base_uri": "https://localhost:8080/"
        },
        "outputId": "2b6afae3-5b9c-4735-b579-6939e39ca0f8"
      },
      "source": [
        "\"\"\"AR(3) & AR(5)\"\"\"\n",
        "\n",
        "import pandas as pd\n",
        "import numpy as np\n",
        "# import matplotlib.pyplot as plt\n",
        "\n",
        "from sklearn.linear_model import LinearRegression\n",
        "# from statsmodels.tsa.ar_model import AutoReg\n",
        "# from statsmodels.tsa.stattools import adfuller\n",
        "# from sklearn.metrics import mean_squared_error\n",
        "\n",
        "file = 'https://raw.githubusercontent.com/michaelofsbu/CSE-544-Datasets/main/States%20Data/23.csv'\n",
        "state = pd.read_csv(file)\n",
        "state['Date'] = pd.to_datetime(state['Date'])  \n",
        "\n",
        "aug = (state['Date'] >= '2020-08-01') & (state['Date'] <= '2020-08-31')\n",
        "state_aug = state[aug]\n",
        "state_aug = state_aug.reset_index()\n",
        "\n",
        "# mean absolute percent error\n",
        "def mape(actual, Predicted):\n",
        "  mape = np.mean(np.abs((actual - Predicted)/actual))*100\n",
        "  return mape\n",
        "\n",
        "# mean squared error\n",
        "def msev(actual, Predicted):\n",
        "  mse = np.square(np.subtract(actual, Predicted)).mean()\n",
        "  return mse\n",
        "\n",
        "# Autoregression model and p as the lags value\n",
        "def ar(p, df, train_size, col):\n",
        "  # Add f-*p columns to dataframe\n",
        "  for i in range(1, p+1):\n",
        "    df['f-%d' % i] = df[col].shift(i)\n",
        "\n",
        "  # Breaking data into training and test set and remove the null value\n",
        "  train = pd.DataFrame(df[:train_size]).dropna()\n",
        "  test = pd.DataFrame(df[train_size:])\n",
        "\n",
        "  # Separate the f-*p columns as data, first column as labels\n",
        "  train_data = train.iloc[:,1:].values.reshape(-1, p)\n",
        "  train_label = train.iloc[:,0].values.reshape(-1, 1)\n",
        "  test_data = test.iloc[:,1:].values.reshape(-1, p)\n",
        "\n",
        "  # Running linear regression to generate the coefficents and interceptions\n",
        "  lr = LinearRegression()\n",
        "  lr.fit(train_data, train_label)\n",
        "\n",
        "  # Apply the autoregression formula y(t) = intercept + Σ coef(i) * y(t-i)\n",
        "  pred = test_data.dot(lr.coef_.T) + lr.intercept_\n",
        "  pred = pred.flatten()\n",
        "\n",
        "  # Compute the mse and mape value\n",
        "  mse = msev(test[col], pred)\n",
        "  mape_ = mape(test[col], pred)\n",
        "\n",
        "  # Report the accuracy\n",
        "  print('AR(' + str(p) + ') mape: ', round(mape_, 2), '%\\tmse:', round(mse))\n",
        "\n",
        "\n",
        "\n",
        "for col in state_aug.columns[2:]:\n",
        "  # data = state_aug[col]\n",
        "  data = pd.DataFrame(state_aug[col])\n",
        "\n",
        "  print(col)\n",
        "  ar(3, data, 21, col)\n",
        "  ar(5, data, 21, col)\n",
        "  print()"
      ],
      "execution_count": null,
      "outputs": [
        {
          "output_type": "stream",
          "text": [
            "UT confirmed\n",
            "AR(3) mape:  0.14 %\tmse: 6014\n",
            "AR(5) mape:  0.33 %\tmse: 36549\n",
            "\n",
            "VA confirmed\n",
            "AR(3) mape:  0.28 %\tmse: 143442\n",
            "AR(5) mape:  0.48 %\tmse: 366682\n",
            "\n",
            "UT deaths\n",
            "AR(3) mape:  0.71 %\tmse: 9\n",
            "AR(5) mape:  0.8 %\tmse: 13\n",
            "\n",
            "VA deaths\n",
            "AR(3) mape:  0.66 %\tmse: 351\n",
            "AR(5) mape:  0.5 %\tmse: 244\n",
            "\n"
          ],
          "name": "stdout"
        }
      ]
    },
    {
      "cell_type": "markdown",
      "metadata": {
        "id": "WHTaIznYasrO"
      },
      "source": [
        "## **B**: Wald's test, Z test, and t-test"
      ]
    },
    {
      "cell_type": "markdown",
      "metadata": {
        "id": "rVpsh3YZg6dj"
      },
      "source": [
        "### Wald's One Sample"
      ]
    },
    {
      "cell_type": "code",
      "metadata": {
        "id": "e4TEUQDNe_hX"
      },
      "source": [
        "import pandas as pd\n",
        "import numpy as np\n",
        "\n",
        "state = pd.read_csv('23.csv')\n",
        "\n",
        "state['Date'] = pd.to_datetime(state['Date'])  \n",
        "february = (state['Date'] >= '2021-02-01') & (state['Date'] <= '2021-02-28')\n",
        "march = (state['Date'] >= '2021-03-01') & (state['Date'] <= '2021-03-31')\n",
        "\n",
        "state_feb = state[february]\n",
        "state_march = state[march]\n",
        "\n",
        "cases_VA_feb = state_feb[['Date', 'VA confirmed']]\n",
        "cases_count_VA_feb = cases_VA_feb['VA confirmed']\n",
        "\n",
        "deaths_VA_feb = state_feb[['Date', 'VA deaths']]\n",
        "deaths_count_VA_feb = deaths_VA_feb['VA deaths']\n",
        "\n",
        "cases_UT_feb = state_feb[['Date', 'UT confirmed']]\n",
        "cases_count_UT_feb = cases_UT_feb['UT confirmed']\n",
        "\n",
        "deaths_UT_feb = state_feb[['Date', 'UT deaths']]\n",
        "deaths_count_UT_feb = deaths_UT_feb['UT deaths']\n",
        "\n",
        "cases_VA_mar = state_march[['Date', 'VA confirmed']]\n",
        "cases_count_VA_mar = cases_VA_mar['VA confirmed']\n",
        "\n",
        "deaths_VA_mar = state_march[['Date', 'VA deaths']]\n",
        "deaths_count_VA_mar = deaths_VA_mar['VA deaths']\n",
        "\n",
        "cases_UT_mar = state_march[['Date', 'UT confirmed']]\n",
        "cases_count_UT_mar = cases_UT_mar['UT confirmed']\n",
        "\n",
        "deaths_UT_mar = state_march[['Date', 'UT deaths']]\n",
        "deaths_count_UT_mar = deaths_UT_mar['UT deaths']"
      ],
      "execution_count": null,
      "outputs": []
    },
    {
      "cell_type": "code",
      "metadata": {
        "colab": {
          "base_uri": "https://localhost:8080/"
        },
        "id": "SYwxk5fBfA_y",
        "outputId": "91206da7-fa68-41cd-ce9e-ba31b3bbb14c"
      },
      "source": [
        "def walds_one(feb, march):\n",
        "  #Here we are using Poisson MLE. \n",
        "  #The MLE for Poisson is simply the sample mean, so we just take the mean\n",
        "  theta_hat = np.mean(feb)\n",
        "\n",
        "  #We were told to use sample mean for theta_0\n",
        "  theta_0 = np.mean(march)\n",
        "\n",
        "  #se = sqrt(theta_hat / n)\n",
        "  se = np.sqrt(theta_hat / len(march))\n",
        "  \n",
        "  #Compute Wald's statistic\n",
        "  walds_statistic = (theta_hat - theta_0) / se\n",
        "\n",
        "  #Critical threshold for alpha = 0.05 is 1.96\n",
        "  if np.abs(walds_statistic) > 1.96:\n",
        "    print(\"|W| = \", np.abs(walds_statistic), \" > 1.96, therefore reject the Null Hypothesis\")\n",
        "  else:\n",
        "    print(\"|W| = \", np.abs(walds_statistic), \" <= 1.96, therefore accept the Null Hypothesis\")\n",
        "\n",
        "walds_one(deaths_count_UT_feb, deaths_count_UT_mar)\n",
        "\n",
        "walds_one(cases_count_UT_feb, cases_count_UT_mar)\n",
        "\n",
        "walds_one(cases_count_VA_feb, cases_count_VA_mar)\n",
        "\n",
        "walds_one(deaths_count_VA_feb, deaths_count_VA_mar)"
      ],
      "execution_count": null,
      "outputs": [
        {
          "output_type": "stream",
          "text": [
            "|W| =  31.172891168763257  > 1.96, therefore reject the Null Hypothesis\n",
            "|W| =  169.5916851488749  > 1.96, therefore reject the Null Hypothesis\n",
            "|W| =  386.3680317489496  > 1.96, therefore reject the Null Hypothesis\n",
            "|W| =  181.22032132577195  > 1.96, therefore reject the Null Hypothesis\n"
          ],
          "name": "stdout"
        }
      ]
    },
    {
      "cell_type": "markdown",
      "metadata": {
        "id": "PagVTw2CfzVP"
      },
      "source": [
        "In all of these cases the Wald's statistic W was much greater than the threshold value of 1.96. Based off of this, we can say the following:\n",
        "\n",
        "For Virginia values, the mean number of cases AND the mean of daily deaths for Feb’21 **is different** from the corresponding mean of daily values for March’21\n",
        "\n",
        "For Utah values, the mean number of cases AND the mean of daily deaths for Feb’21 **is different** from the corresponding mean of daily values for March’21\n",
        "\n",
        "It seems that in this case, the Wald's test is **NOT** applicable for this test. Wald's test assumes that the estimator theta_hat is AN, but in this case, the data is not AN."
      ]
    },
    {
      "cell_type": "markdown",
      "metadata": {
        "id": "InSicaY2g9Mq"
      },
      "source": [
        "### Z test one sample"
      ]
    },
    {
      "cell_type": "code",
      "metadata": {
        "colab": {
          "base_uri": "https://localhost:8080/"
        },
        "id": "5niKLuZcfDyn",
        "outputId": "d08a8d0e-e23d-4eaa-8451-a449106c11ef"
      },
      "source": [
        "def z_one(original, feb, march):\n",
        "  #Z test requires true standard deviation, so we need to find that\n",
        "  sigma = np.std(original)\n",
        "\n",
        "  \n",
        "  x_bar = np.mean(feb)\n",
        "  \n",
        "  mu_0 = np.mean(march)\n",
        "\n",
        "  sigma_over_sqrtn = sigma / np.sqrt(len(feb))\n",
        "\n",
        "  z_statistic = (x_bar - mu_0) / sigma_over_sqrtn\n",
        "\n",
        "  if np.abs(z_statistic) > 1.96:\n",
        "    print(\"|Z| = \", np.abs(z_statistic), \"> 1.96 therefore reject the null hypothesis\")\n",
        "  else:\n",
        "    print(\"|Z| = \", np.abs(z_statistic), \"<= 1.96 therefore accept the null hypothesis\")\n",
        "\n",
        "z_one(state['VA confirmed'], cases_count_VA_feb, cases_count_VA_mar)\n",
        "\n",
        "z_one(state['VA deaths'], deaths_count_VA_feb, deaths_count_VA_mar)\n",
        "\n",
        "z_one(state['UT confirmed'], cases_count_UT_feb, cases_count_UT_mar)\n",
        "\n",
        "z_one(state['UT deaths'], deaths_count_UT_feb, deaths_count_UT_mar)"
      ],
      "execution_count": null,
      "outputs": [
        {
          "output_type": "stream",
          "text": [
            "|Z| =  1.371705720445352 <= 1.96 therefore accept the null hypothesis\n",
            "|Z| =  5.108579550253789 > 1.96 therefore reject the null hypothesis\n",
            "|Z| =  0.7020619767080907 <= 1.96 therefore accept the null hypothesis\n",
            "|Z| =  1.8576534274536443 <= 1.96 therefore accept the null hypothesis\n"
          ],
          "name": "stdout"
        }
      ]
    },
    {
      "cell_type": "markdown",
      "metadata": {
        "id": "7tGT8TXqKSlM"
      },
      "source": [
        "In the case of mean monthly cases for Utah, and the case of mean monthly deaths for Utah and Virginia, here sinze |Z| <= 1.96, we accept the null hypothesis. That means that it is indeed true that the means are the same in February and March for these.\n",
        "\n",
        "One exception to this is the mean monthly deaths in Virginia. Our Z value here was 5.11 which is greater than the critical threshold, so here we reject the null hyopthesis and claim that the means are not the same. \n",
        "\n",
        "We believe that the Z test is not applicable here. One of the criteria for the Z test is knowing the **true** standard deviation. However, as we see in the news and social media all the time, it seems that the true standard deviation of COVID cases can never really be known. This is because there is indeed a lot of asymptomatic cases which do not show up in the numbers, some false negatives, mistakes in testing like PCR thresholds, and finally people just simply refusing to get tested. These could all be contributing factors to now knowing the true standard deviation, so in this case, the Z test is not really applicable since it assumes we know the true standard deviation.  "
      ]
    },
    {
      "cell_type": "markdown",
      "metadata": {
        "id": "Ai-aOyFrhMey"
      },
      "source": [
        "### Wald's 2 sample"
      ]
    },
    {
      "cell_type": "code",
      "metadata": {
        "colab": {
          "base_uri": "https://localhost:8080/"
        },
        "id": "sXjn4OsJhP6B",
        "outputId": "2361cf21-f5bf-4c52-fe40-f729bc25b4e5"
      },
      "source": [
        "def walds_two(feb, march):\n",
        "  x_bar = np.mean(feb)\n",
        "  y_bar = np.mean(march)\n",
        "  delta_hat = x_bar - y_bar\n",
        "\n",
        "  #Since we're using Poisson MLE, variance will be sample mean\n",
        "  \n",
        "  se_hat = np.sqrt((x_bar / len(feb)) + (y_bar / len(march)))\n",
        "\n",
        "  walds_statistic = delta_hat / se_hat\n",
        "\n",
        "  if np.abs(walds_statistic) > 1.96:\n",
        "    print(\"|W| = \", np.abs(walds_statistic), \" > 1.96, therefore reject the Null Hypothesis\")\n",
        "  else:\n",
        "    print(\"|W| = \", np.abs(walds_statistic), \" <= 1.96, therefore accept the Null Hypothesis\")\n",
        "\n",
        "walds_two(cases_count_UT_feb, cases_count_UT_mar)\n",
        "\n",
        "walds_two(deaths_count_UT_feb, deaths_count_UT_mar)\n",
        "\n",
        "walds_two(cases_count_VA_feb, cases_count_VA_mar)\n",
        "\n",
        "walds_two(deaths_count_VA_feb, deaths_count_VA_mar)"
      ],
      "execution_count": null,
      "outputs": [
        {
          "output_type": "stream",
          "text": [
            "|W| =  115.44969347830576  > 1.96, therefore reject the Null Hypothesis\n",
            "|W| =  20.83218579296163  > 1.96, therefore reject the Null Hypothesis\n",
            "|W| =  260.4310819769535  > 1.96, therefore reject the Null Hypothesis\n",
            "|W| =  114.81653434010379  > 1.96, therefore reject the Null Hypothesis\n"
          ],
          "name": "stdout"
        }
      ]
    },
    {
      "cell_type": "markdown",
      "metadata": {
        "id": "CXiV4eBULpvg"
      },
      "source": [
        "Similarly to the one sample Wald's test, in all of these cases the Wald's statistic W was much greater than the threshold value of 1.96. Based off of this, we can say the following:\n",
        "\n",
        "For Virginia values, the mean number of cases AND the mean of daily deaths for Feb’21 **is different** from the corresponding mean of daily values for March’21\n",
        "\n",
        "For Utah values, the mean number of cases AND the mean of daily deaths for Feb’21 **is different** from the corresponding mean of daily values for March’21\n",
        "\n",
        "It seems that in this case, the 2 sample Wald's test is **NOT** applicable for this. Wald's test assumes that the estimator theta_hat is AN, but in this case, the data is not AN."
      ]
    },
    {
      "cell_type": "markdown",
      "metadata": {
        "id": "WqKYtVtyhXGD"
      },
      "source": [
        "### t-test one sample"
      ]
    },
    {
      "cell_type": "code",
      "metadata": {
        "colab": {
          "base_uri": "https://localhost:8080/"
        },
        "id": "LzZAjOMEhcUu",
        "outputId": "50ad11cf-9743-4987-f619-d1d92cbb0f3f"
      },
      "source": [
        "def t_one(feb, march):\n",
        "  x_bar = np.mean(feb)\n",
        "  mu_0 = np.mean(march)\n",
        "\n",
        "  ssd = np.std(feb)\n",
        "\n",
        "  s_over_n = ssd / np.sqrt(len(feb))\n",
        "  t = (x_bar - mu_0) / s_over_n\n",
        "  #Critical threshold 2.051831 found by table lookup \n",
        "  if np.abs(t) > 2.051831:\n",
        "    print(\"|t| = \", np.abs(t), \"> 2.051831 therefore reject the null hypothesis\")\n",
        "  else:\n",
        "    print(\"|t| = \", np.abs(t), \"<= 2.051831 therefor accept the null hypothesis\")\n",
        "\n",
        "t_one(cases_count_UT_feb, cases_count_UT_mar)\n",
        "\n",
        "t_one(deaths_count_UT_feb, deaths_count_UT_mar)\n",
        "\n",
        "t_one(cases_count_VA_feb, cases_count_VA_mar)\n",
        "\n",
        "t_one(deaths_count_VA_feb, deaths_count_VA_mar)\n"
      ],
      "execution_count": null,
      "outputs": [
        {
          "output_type": "stream",
          "text": [
            "|t| =  13.711719528357026 > 2.051831 therefore reject the null hypothesis\n",
            "|t| =  17.85120765089191 > 2.051831 therefore reject the null hypothesis\n",
            "|t| =  13.113863589190032 > 2.051831 therefore reject the null hypothesis\n",
            "|t| =  26.739252053774308 > 2.051831 therefore reject the null hypothesis\n"
          ],
          "name": "stdout"
        }
      ]
    },
    {
      "cell_type": "markdown",
      "metadata": {
        "id": "4VlLtmVTL7AA"
      },
      "source": [
        "In all of these cases the t statistic T was greater than the threshold value of 2.051831. Based off of this, we can say the following:\n",
        "\n",
        "For Virginia values, the mean number of cases AND the mean of daily deaths for Feb’21 **is different** from the corresponding mean of daily values for March’21\n",
        "\n",
        "For Utah values, the mean number of cases AND the mean of daily deaths for Feb’21 **is different** from the corresponding mean of daily values for March’21\n",
        "\n",
        "It seems that in this case, the T test is **NOT** applicable for this test. T test assumes that the data is normally distributed, and we do not know that. "
      ]
    },
    {
      "cell_type": "markdown",
      "metadata": {
        "id": "wC8POzDnhg0y"
      },
      "source": [
        "### Two sample unpaired t-test"
      ]
    },
    {
      "cell_type": "code",
      "metadata": {
        "id": "EDA02Q8ehjaZ",
        "colab": {
          "base_uri": "https://localhost:8080/"
        },
        "outputId": "cf6714a0-4ce5-4c8a-ddb7-14d09104bc3f"
      },
      "source": [
        "def t_two_unpaired(feb, march):\n",
        "  x_bar = np.mean(feb)\n",
        "  y_bar = np.mean(march)\n",
        "  d_bar = x_bar - y_bar\n",
        "\n",
        "  sx = np.var(feb) / len(feb)\n",
        "  sy = np.var(march) / len(march)\n",
        "  sx_sy = np.sqrt(sx + sy)\n",
        "\n",
        "  t = d_bar / sx_sy\n",
        "  #Critical threshold found from table lookup\n",
        "  if np.abs(t) > 2.002465:\n",
        "    print(\"|t| = \", np.abs(t), \"> 2.002465 therefore reject the null hypothesis\")\n",
        "  else:\n",
        "    print(\"|t| = \", np.abs(t), \"<= 2.002465 therefore reject the null hypothesis\")\n",
        "\n",
        "t_two_unpaired(cases_count_UT_feb, cases_count_UT_mar)\n",
        "\n",
        "t_two_unpaired(deaths_count_UT_feb, deaths_count_UT_mar)\n",
        "\n",
        "t_two_unpaired(cases_count_VA_feb, cases_count_VA_mar)\n",
        "\n",
        "t_two_unpaired(deaths_count_VA_feb, deaths_count_VA_mar)\n"
      ],
      "execution_count": null,
      "outputs": [
        {
          "output_type": "stream",
          "text": [
            "|t| =  11.910784809405355 > 2.002465 therefore reject the null hypothesis\n",
            "|t| =  14.159815154650781 > 2.002465 therefore reject the null hypothesis\n",
            "|t| =  11.357687622323128 > 2.002465 therefore reject the null hypothesis\n",
            "|t| =  21.770162931599856 > 2.002465 therefore reject the null hypothesis\n"
          ],
          "name": "stdout"
        }
      ]
    },
    {
      "cell_type": "markdown",
      "metadata": {
        "id": "wjByzmG_M2uw"
      },
      "source": [
        "In all of these cases the t statistic T was greater than the threshold value of 2.002465. Based off of this, we can say the following:\n",
        "\n",
        "For Virginia values, the mean number of cases AND the mean of daily deaths for Feb’21 **is different** from the corresponding mean of daily values for March’21\n",
        "\n",
        "For Utah values, the mean number of cases AND the mean of daily deaths for Feb’21 **is different** from the corresponding mean of daily values for March’21\n",
        "\n",
        "It seems that in this case, the 2 sample unpaired T test is **NOT** applicable for this test. T test assumes that the data samples for X and Y are normally distributed, and we do not know that. "
      ]
    },
    {
      "cell_type": "markdown",
      "metadata": {
        "id": "vySbJdUAa0QX"
      },
      "source": [
        "## **C**: KS and Permutation"
      ]
    },
    {
      "cell_type": "markdown",
      "metadata": {
        "id": "6rQrtG0Cm8IK"
      },
      "source": [
        "### Two Sample KS test"
      ]
    },
    {
      "cell_type": "code",
      "metadata": {
        "colab": {
          "base_uri": "https://localhost:8080/",
          "height": 609
        },
        "id": "GGLukPDxuK4w",
        "outputId": "532dcb1f-75e1-421f-fd5a-05adc416fc92"
      },
      "source": [
        "import pandas as pd\n",
        "import numpy as np\n",
        "import matplotlib.pyplot as plt\n",
        "from bisect import bisect_left, bisect_right\n",
        "from scipy import stats\n",
        "import warnings\n",
        "from pandas.core.common import SettingWithCopyWarning\n",
        "warnings.simplefilter(action=\"ignore\", category=SettingWithCopyWarning)\n",
        "\n",
        "def plot_ecdf(S, label):\n",
        "    x = np.sort(S)\n",
        "    y = np.arange(len(x))/float(len(x))\n",
        "    plt.step(x, y, label=label)\n",
        "    return x, y\n",
        "\n",
        "def ks_2_sample(X, Y):\n",
        "    x1, y1 = plot_ecdf(X, 'UT')\n",
        "    x2, y2 = plot_ecdf(Y, 'VA')\n",
        "\n",
        "    data_all = np.concatenate([x1, x2])\n",
        "    # using searchsorted solves equal data problem\n",
        "    n1, n2 = len(x1), len(x2)\n",
        "    idx1 = np.searchsorted(x1, data_all, side='right')\n",
        "    idx2 = np.searchsorted(x2, data_all, side='right')\n",
        "    cdf1 = idx1 / n1\n",
        "    cdf2 = idx2 / n2\n",
        "    cddiffs = cdf1 - cdf2\n",
        "    minS = np.clip(-np.min(cddiffs), 0, 1)\n",
        "    maxS = np.max(cddiffs)\n",
        "    if minS > maxS:\n",
        "        val = minS\n",
        "        idx = np.argmin(cddiffs)\n",
        "    else:\n",
        "        val = maxS\n",
        "        idx = np.argmax(cddiffs)\n",
        "    maxdiff_x = x1[idx1[idx]]\n",
        "    plt.plot((maxdiff_x,maxdiff_x),(y1[idx1[idx]],y2[idx2[idx]]), 'b--', label='Max Diff = {:.4f}'.format(val))\n",
        "    plt.legend()\n",
        "    plt.xlabel('Num Cases')\n",
        "    plt.ylabel('eCDF')\n",
        "    plt.show()\n",
        "\n",
        "def run_part_c(X, Y):\n",
        "    print(stats.ks_2samp(X, Y))\n",
        "    ks_2_sample(X, Y)\n",
        "\n",
        "def main():\n",
        "    df = pd.read_csv('23.csv',header=0, names=['date','UT_conf','VA_conf', 'UT_death', 'VA_death'])\n",
        "    start_idx = df[df['date'] == '2020-09-30'].index[0]\n",
        "    end_idx = df[df['date'] == '2020-12-31'].index[0] + 1\n",
        "    filtered_df = df[start_idx:end_idx]\n",
        "    filtered_df[['UT_conf','VA_conf', 'UT_death', 'VA_death']] = filtered_df[['UT_conf','VA_conf', 'UT_death', 'VA_death']].diff()\n",
        "    filtered_df = filtered_df[1:]\n",
        "\n",
        "    # for confirmed\n",
        "    print(\"Confirmed:\")\n",
        "    X, Y = map(list, zip(*filtered_df[['UT_conf', 'VA_conf']].values))\n",
        "    run_part_c(X, Y)\n",
        "\n",
        "    # for deaths\n",
        "    print(\"Deaths:\")\n",
        "    X, Y = map(list, zip(*filtered_df[['UT_death', 'VA_death']].values))\n",
        "    run_part_c(X, Y)\n",
        "\n",
        "main()\n",
        "\n"
      ],
      "execution_count": null,
      "outputs": [
        {
          "output_type": "stream",
          "text": [
            "Confirmed:\n",
            "Ks_2sampResult(statistic=0.16304347826086957, pvalue=0.1736682169213413)\n"
          ],
          "name": "stdout"
        },
        {
          "output_type": "display_data",
          "data": {
            "image/png": "[encoded data removed]",
            "text/plain": [
              "<Figure size 432x288 with 1 Axes>"
            ]
          },
          "metadata": {
            "tags": [],
            "needs_background": "light"
          }
        },
        {
          "output_type": "stream",
          "text": [
            "Deaths:\n",
            "Ks_2sampResult(statistic=0.33695652173913043, pvalue=5.0189303748185584e-05)\n"
          ],
          "name": "stdout"
        },
        {
          "output_type": "display_data",
          "data": {
            "image/png": "[encoded data removed]",
            "text/plain": [
              "<Figure size 432x288 with 1 Axes>"
            ]
          },
          "metadata": {
            "tags": [],
            "needs_background": "light"
          }
        }
      ]
    },
    {
      "cell_type": "markdown",
      "metadata": {
        "id": "34lw5sVJ8qqe"
      },
      "source": [
        "Our null hypotheses is that the distribution for UT and VA are the same for confirmed and deaths respectively for the two graphs above.\n",
        "\n",
        "From the 2-sample KS test above, we see that for the confirmed cases, we see a p-value of 0.174 which is greater than 0.05. Thus, we cannot reject the null, and we maintain that the UT and VA confirmed cases are distributed the same.\n",
        "\n",
        "For deaths, we find that the p-value is very close to zero. Thus, we can reject the null, and the UT and VA deaths are distributed differently."
      ]
    },
    {
      "cell_type": "markdown",
      "metadata": {
        "id": "6TewGSKjU3YO"
      },
      "source": [
        "### One Sample KS Test"
      ]
    },
    {
      "cell_type": "code",
      "metadata": {
        "id": "vnuFPHr9Uxf0",
        "colab": {
          "base_uri": "https://localhost:8080/",
          "height": 847
        },
        "outputId": "51e1b23b-8f34-4066-a9ec-abb81c7b21c7"
      },
      "source": [
        "import numpy as np\n",
        "import matplotlib.pyplot as plt\n",
        "import pandas\n",
        "from scipy.stats import binom\n",
        "from scipy.stats import geom\n",
        "from scipy.stats import poisson\n",
        "from scipy.stats import ksone\n",
        "from scipy.stats import kstest\n",
        "\n",
        "def plot_ecdf(S, label):\n",
        "    x = np.sort(S)\n",
        "    y = np.arange(len(x))/float(len(x))\n",
        "    plt.legend()\n",
        "    plt.step(x, y, label=label)\n",
        "    return x, y\n",
        "\n",
        "df = pandas.read_csv('23.csv',header=0, names=['date','UT_conf','VA_conf', 'UT_death', 'VA_death'])\n",
        "df[['UT_conf','VA_conf', 'UT_death', 'VA_death']] = df[['UT_conf','VA_conf', 'UT_death', 'VA_death']].diff().fillna(0)\n",
        "\n",
        "# Filter October through December\n",
        "ks_df = df[(df['date'] >= '2020-10-01') & (df['date'] <= '2020-12-31')]\n",
        "\n",
        "# Split the data up by column into numpy lists\n",
        "UT_confirmed = np.array(ks_df['UT_conf'].tolist())\n",
        "VA_confirmed = np.array(ks_df['VA_conf'].tolist())\n",
        "UT_deaths = np.array(ks_df['UT_death'].tolist())\n",
        "VA_deaths = np.array(ks_df['VA_death'].tolist())\n",
        "\n",
        "for label, UT, VA in [('Confirmed', UT_confirmed, VA_confirmed), ('Deaths', UT_deaths, VA_deaths)]:\n",
        "    print(label)\n",
        "    # Sort the data for the CDFs\n",
        "    UT = np.sort(UT)\n",
        "    VA = np.sort(VA)\n",
        "    x = np.linspace(min(VA), max(VA), num=1000)\n",
        "    \n",
        "    # Plot VA eCDF\n",
        "    plt.figure(1 if label == 'Confirmed' else 4)\n",
        "    plt.title(label)\n",
        "    plot_ecdf(VA, 'VA eCDF')\n",
        "\n",
        "    # Vectorize Poisson cdf.\n",
        "    # MME estimate of lambda is the mean of the\n",
        "    # UT data points\n",
        "    poisson_cdf = lambda k: poisson.cdf(k, np.mean(UT))\n",
        "    poisson_cdf = np.vectorize(poisson_cdf)\n",
        "    # Evaluate Poisson cdf at state VA data points\n",
        "    y = poisson_cdf(VA)\n",
        "    diff1 = max(np.abs(y - np.arange(len(VA))/float(len(VA))))\n",
        "    diff2 = max(np.abs(y - (np.arange(len(VA)) + 1)/float(len(VA))))\n",
        "    # Calculate D-statistic for KS test\n",
        "    D = max(diff1, diff2)\n",
        "    print('Poisson D statistic: ', D)\n",
        "    print('P-value: ', 2 * ksone.sf(D, len(VA)))\n",
        "    plt.plot(x, poisson_cdf(x), label='Poisson')\n",
        "\n",
        "    # Vectorize Geometric cdf.\n",
        "    # MME estimate of lambda is 1 / the mean of the\n",
        "    # UT data points\n",
        "    geom_cdf = lambda k: geom.cdf(k, 1.0 / np.mean(UT))\n",
        "    geom_cdf = np.vectorize(geom_cdf)\n",
        "    y = geom_cdf(VA)\n",
        "    diff1 = max(np.abs(y - np.arange(len(VA))/float(len(VA))))\n",
        "    diff2 = max(np.abs(y - (np.arange(len(VA)) + 1)/float(len(VA))))\n",
        "    # Calculate D-statistic for KS test\n",
        "    D = max(diff1, diff2)\n",
        "    print('Geometric D statistic: ', D)\n",
        "    print('P-value: ', 2 * ksone.sf(D, len(VA)))\n",
        "    plt.plot(x, geom_cdf(x), label='Geometric')\n",
        "\n",
        "    # Calculate MME estimates of n and p\n",
        "    p = 1 - (np.sum(UT - np.mean(UT)) ** 2) / np.sum(UT)\n",
        "    n = round(np.mean(UT) / p)\n",
        "    # Vectorize Binomial cdf.\n",
        "    binom_cdf = lambda k: binom.cdf(k, n, p)\n",
        "    binom_cdf = np.vectorize(binom_cdf)\n",
        "    y = binom_cdf(VA)\n",
        "    diff1 = max(np.abs(y - np.arange(len(VA))/float(len(VA))))\n",
        "    diff2 = max(np.abs(y - (np.arange(len(VA)) + 1)/float(len(VA))))\n",
        "    # Calculate D-statistic for KS test\n",
        "    D = max(diff1, diff2)\n",
        "    print('Binomial D statistic: ', D)\n",
        "    print('P-value: ', 2 * ksone.sf(D, len(VA)))\n",
        "    plt.plot(x, binom_cdf(x), label='Binomial')\n",
        "    print()\n",
        "plt.legend()\n",
        "plt.show()"
      ],
      "execution_count": null,
      "outputs": [
        {
          "output_type": "stream",
          "text": [
            "No handles with labels found to put in legend.\n"
          ],
          "name": "stderr"
        },
        {
          "output_type": "stream",
          "text": [
            "Confirmed\n",
            "Poisson D statistic:  0.569909148988736\n",
            "P-value:  8.771987309017859e-29\n",
            "Geometric D statistic:  0.2397119300394826\n",
            "P-value:  3.887160419432116e-05\n"
          ],
          "name": "stdout"
        },
        {
          "output_type": "stream",
          "text": [
            "No handles with labels found to put in legend.\n"
          ],
          "name": "stderr"
        },
        {
          "output_type": "stream",
          "text": [
            "Binomial D statistic:  0.5978260869565217\n",
            "P-value:  6.04716768035127e-32\n",
            "\n",
            "Deaths\n",
            "Poisson D statistic:  0.5437734002096557\n",
            "P-value:  5.066266734407831e-26\n",
            "Geometric D statistic:  0.3996676497550304\n",
            "P-value:  8.964128524963551e-14\n",
            "Binomial D statistic:  0.7173913043478262\n",
            "P-value:  1.8193584181125665e-48\n",
            "\n"
          ],
          "name": "stdout"
        },
        {
          "output_type": "display_data",
          "data": {
            "image/png": "[encoded data removed]",
            "text/plain": [
              "<Figure size 432x288 with 1 Axes>"
            ]
          },
          "metadata": {
            "tags": [],
            "needs_background": "light"
          }
        },
        {
          "output_type": "display_data",
          "data": {
            "image/png": "[encoded data removed]",
            "text/plain": [
              "<Figure size 432x288 with 1 Axes>"
            ]
          },
          "metadata": {
            "tags": [],
            "needs_background": "light"
          }
        }
      ]
    },
    {
      "cell_type": "markdown",
      "metadata": {
        "id": "0PGqjpwfq3pc"
      },
      "source": [
        "The null hypothesis is that the distributions are the same. For both confirmed cases and deaths, the Utah MME CDFs are quite different from the Virginia eCDF. This is unsurprising because the total population of Virginia is more than twice that of Utah.\n",
        "\n",
        "The p-values are extremely small, and with a significance level of 0.05, the null hypothesis is rejected for all six cases."
      ]
    },
    {
      "cell_type": "markdown",
      "metadata": {
        "id": "TVwIpwaynCHZ"
      },
      "source": [
        "### Permutation Test"
      ]
    },
    {
      "cell_type": "code",
      "metadata": {
        "id": "p56Bkh-Q7MWa"
      },
      "source": [
        "import warnings\n",
        "from pandas.core.common import SettingWithCopyWarning\n",
        "warnings.simplefilter(action=\"ignore\", category=SettingWithCopyWarning)\n",
        "\n",
        "def run_permutation_test(X, Y, NUM_PERM):\n",
        "    X_mean = np.mean(X)\n",
        "    Y_mean = np.mean(Y)\n",
        "    observed_diff = abs(X_mean - Y_mean)\n",
        "\n",
        "    count = 0\n",
        "    all_levels = X + Y\n",
        "    for _ in range(NUM_PERM):\n",
        "        np.random.shuffle(all_levels)\n",
        "        g1 = all_levels[:len(X)]\n",
        "        g2 = all_levels[len(X):]\n",
        "        diff = abs(np.mean(g1) - np.mean(g2))\n",
        "        if diff > observed_diff:\n",
        "            count += 1\n",
        "\n",
        "    return observed_diff, count, NUM_PERM, count / NUM_PERM"
      ],
      "execution_count": null,
      "outputs": []
    },
    {
      "cell_type": "code",
      "metadata": {
        "colab": {
          "base_uri": "https://localhost:8080/"
        },
        "id": "MPbPJ4iY7M-c",
        "outputId": "cc8f0de8-d6f2-48ed-a4a2-896a15071e08"
      },
      "source": [
        "def run_part_c(X, Y):\n",
        "    observed_diff, count, num_perm, ratio = run_permutation_test(X, Y, 1000)\n",
        "    print(\"Number of more extreme permutations: \", count)\n",
        "    print(\"Total permutations: \", num_perm)\n",
        "    print(\"Ratio: \", ratio)\n",
        "    print()\n",
        "\n",
        "def main():\n",
        "    df = pd.read_csv('23.csv',header=0, names=['date','UT_conf','VA_conf', 'UT_death', 'VA_death'])\n",
        "    start_idx = df[df['date'] == '2020-09-30'].index[0]\n",
        "    end_idx = df[df['date'] == '2020-12-31'].index[0] + 1\n",
        "    filtered_df = df[start_idx:end_idx]\n",
        "    filtered_df[['UT_conf','VA_conf', 'UT_death', 'VA_death']] = filtered_df[['UT_conf','VA_conf', 'UT_death', 'VA_death']].diff()\n",
        "    filtered_df = filtered_df[1:]\n",
        "    # print(filtered_df)\n",
        "\n",
        "    # for confirmed\n",
        "    print(\"Confirmed:\")\n",
        "    X, Y = map(list, zip(*filtered_df[['UT_conf', 'VA_conf']].values))\n",
        "    run_part_c(X, Y)\n",
        "\n",
        "    # for deaths\n",
        "    print(\"Deaths:\")\n",
        "    X, Y = map(list, zip(*filtered_df[['UT_death', 'VA_death']].values))\n",
        "    run_part_c(X, Y)\n",
        "\n",
        "main()\n"
      ],
      "execution_count": null,
      "outputs": [
        {
          "output_type": "stream",
          "text": [
            "Confirmed:\n",
            "Number of more extreme permutations:  930\n",
            "Total permutations:  1000\n",
            "Ratio:  0.93\n",
            "\n",
            "Deaths:\n",
            "Number of more extreme permutations:  0\n",
            "Total permutations:  1000\n",
            "Ratio:  0.0\n",
            "\n"
          ],
          "name": "stdout"
        }
      ]
    },
    {
      "cell_type": "markdown",
      "metadata": {
        "id": "USQ5dx-V7zip"
      },
      "source": [
        "From above, we see that for confirmed cases, 0.93 of the permutations had differences in the mean above the original observed difference. Since this is greater than 0.05, we cannot reject the null hypothesis that the UT and VA confirmed cases follow the same distribution.\n",
        "\n",
        "For number of deaths, we see that *none* of the permuations has more extreme means and since 0 is below our threshold of 0.05, we can reject the null hypothesis and claim that the death distribution of UT and VA are not the same."
      ]
    },
    {
      "cell_type": "markdown",
      "metadata": {
        "id": "urw0xaT-a-i5"
      },
      "source": [
        "## **D**: MAP/Bayesian"
      ]
    },
    {
      "cell_type": "code",
      "metadata": {
        "id": "2rYT4lrfY6WP"
      },
      "source": [
        "import matplotlib.pyplot as plt\n",
        "from scipy.stats import gamma\n",
        "import math"
      ],
      "execution_count": null,
      "outputs": []
    },
    {
      "cell_type": "code",
      "metadata": {
        "id": "lqgWyVs_avH4",
        "colab": {
          "base_uri": "https://localhost:8080/",
          "height": 344
        },
        "outputId": "fd87c81c-d363-4573-9ca7-4c2f630599b9"
      },
      "source": [
        "start_date = '2020-06-01'\n",
        "df['total_deaths'] = df['UT_death'] + df['VA_death']\n",
        "# deaths_per_day = df[df['date'] > start_date]\n",
        "\n",
        "deaths_per_day = df[df['date'] >= start_date]['total_deaths']\n",
        "x_range = math.ceil(max(deaths_per_day) /10)\n",
        "x_axis = np.linspace(0,x_range, x_range*10)\n",
        "fig = plt.figure(figsize=(20,5))\n",
        "fig.suptitle('Posterior Gamma distributions')\n",
        "\n",
        "sead = 28\n",
        "initial_sample = deaths_per_day[:sead]\n",
        "beta = np.mean(initial_sample)\n",
        "step = 7\n",
        "\n",
        "# calculating posterior gamma distribution for 4 iterations \n",
        "for i in range(1,5):\n",
        "    # posterior params calculations\n",
        "    lambda_posterior = 1.0/(i*step + 1.0/beta)\n",
        "    a_posterior = np.sum(deaths_per_day[sead : sead + i*step]) + 1\n",
        "    beta = np.mean(deaths_per_day[sead:sead + i*step])\n",
        "\n",
        "    # y-axis calculations\n",
        "    y_axis = gamma.pdf(x_axis, a=a_posterior, scale=lambda_posterior)\n",
        "\n",
        "    # picking map as the x-cordinate with max probability\n",
        "    map = x_axis[np.argmax(y_axis)]\n",
        "    \n",
        "    avg_deaths = np.mean(deaths_per_day[sead : sead + i*step])\n",
        "    print(\"MAP for iteration {} is {}, average deaths {}\".format(i, map, avg_deaths))\n",
        "    \n",
        "    plt.plot(x_axis, y_axis, label='Week {}'.format(i+4))\n",
        "\n",
        "plt.xlabel('Occurances')\n",
        "plt.ylabel('Probability')\n",
        "plt.legend()\n",
        "plt.show()\n"
      ],
      "execution_count": null,
      "outputs": [
        {
          "output_type": "stream",
          "text": [
            "MAP for iteration 1 is 19.349614395886892, average deaths 19.571428571428573\n",
            "MAP for iteration 2 is 20.251928020565554, average deaths 20.285714285714285\n",
            "MAP for iteration 3 is 17.645244215938305, average deaths 17.666666666666668\n",
            "MAP for iteration 4 is 16.34190231362468, average deaths 16.357142857142858\n"
          ],
          "name": "stdout"
        },
        {
          "output_type": "display_data",
          "data": {
            "image/png": "[encoded data removed]",
            "text/plain": [
              "<Figure size 1440x360 with 1 Axes>"
            ]
          },
          "metadata": {
            "tags": [],
            "needs_background": "light"
          }
        }
      ]
    },
    {
      "cell_type": "markdown",
      "metadata": {
        "id": "T7BzbyiQYiB7"
      },
      "source": [
        "As we see in the plot above, as we increase in iterations, the plots move to the left since the number of deaths are decreasing over time in this data range. "
      ]
    },
    {
      "cell_type": "markdown",
      "metadata": {
        "id": "bDZ2VsqIbECt"
      },
      "source": [
        "#Part 3: Exploratory Task"
      ]
    },
    {
      "cell_type": "markdown",
      "metadata": {
        "id": "ZSOizNtbbI9v"
      },
      "source": [
        "In this exploratory section, we are working with USDA dairy datasets. We are using one main USDA dairy dataset, and then an accompanying dataset that goes into detail about the pricing of the items mentioned in the dairy dataset."
      ]
    },
    {
      "cell_type": "markdown",
      "metadata": {
        "id": "ZyxZAndSbU4d"
      },
      "source": [
        "## **Exploratory 1:** The baking craze and COVID cases in USA"
      ]
    },
    {
      "cell_type": "markdown",
      "metadata": {
        "id": "uR4aMPSQbsQ2"
      },
      "source": [
        "During COVID-19, a lot of Americans took up baking as a hobby. Facebook, Instagram, and Twitter were all flooded with pictures of baked bread, croissants, cookies, and cakes. This led to the \"Quarantine 15\" meme where people claimed they gained 15 lbs from the excess of lockdown cooking and carbs. \n",
        "\n",
        "We are wondering whether the United States surge in COVID-19 had any affect on the sale of dairy products during this time, especially since so many people took up baking as a hobby. We are using the USDA Dairy Glance dataset, which includes various dairy product statistics from January 2020 to March 2021.\n",
        "\n",
        "Our first hypothesis is as follows: Did the surge in COVID-19 cases lead to an  increase in butter output? Dairy products are a staple for many baked goods, so we hypothesize that this baking craze could have led to an increase in butter output from farmers. \n",
        "\n",
        "Here, we apply Pearson's correlation to see if monthly milk and butter output are correlated with monthly cumulative US covid cases\n",
        "\n",
        "Ho: Butter output from January to June and cumulative monthly USA covid cases from January to June are **not correlated** \n",
        "\n",
        "H1: Butter output from January to June and cumulative monthly USA covid cases from January to June **are correlated**"
      ]
    },
    {
      "cell_type": "code",
      "metadata": {
        "colab": {
          "base_uri": "https://localhost:8080/"
        },
        "id": "U_J9MYRdrA7V",
        "outputId": "650b2693-0f5f-4d12-bc3c-4023c344144d"
      },
      "source": [
        "import pandas as pd\n",
        "import numpy as np\n",
        "import warnings\n",
        "from pandas.core.common import SettingWithCopyWarning\n",
        "warnings.simplefilter(action=\"ignore\", category=SettingWithCopyWarning)\n",
        "\n",
        "butter = pd.read_csv('butter.csv')\n",
        "file = 'https://raw.githubusercontent.com/michaelofsbu/CSE-544-Datasets/main/US-all/US_confirmed.csv'\n",
        "us = pd.read_csv(file)\n",
        "\n",
        "us = us.T.drop(\"State\")\n",
        "\n",
        "us.index = pd.to_datetime(us.index)\n",
        "\n",
        "us['cumulative'] = us.sum(axis=1)\n",
        "\n",
        "us['cumulative'] = us['cumulative'].diff()\n",
        "\n",
        "us['cumulative'][0] = 8\n",
        "\n",
        "us = us[[\"cumulative\"]]\n",
        "\n",
        "us = us[(us.index >= '2020-01-22') & (us.index <= '2020-12-31')]\n",
        "\n",
        "us = us.groupby(us.index.month).sum()\n",
        "\n",
        "us[(us.index == 1)]\n",
        "\n",
        "us = us[(us.index == 1) | (us.index == 2) | (us.index == 3) | (us.index == 4) | (us.index == 5) | (us.index == 6) ]\n",
        "\n",
        "butter = butter.iloc[0:6]\n",
        "\n",
        "butter_xbar = butter['Butter Output'].mean()\n",
        "\n",
        "cases_ybar = us['cumulative'].mean()\n",
        "\n",
        "butter_output = np.array(butter['Butter Output'])\n",
        "cases_cumulative = np.array(us['cumulative'])\n",
        "\n",
        "numerator = 0\n",
        "x_sum_denominator = 0\n",
        "y_sum_denominator = 0\n",
        "for i in range(len(butter_output)):\n",
        "  x = butter_output[i] - butter_xbar\n",
        "  y = cases_cumulative[i] - cases_ybar\n",
        "  numerator += x * y\n",
        "\n",
        "  x_sum_denominator += x**2\n",
        "  y_sum_denominator += y**2\n",
        "\n",
        "print(abs(numerator / np.sqrt(x_sum_denominator * y_sum_denominator)))\n",
        "\n"
      ],
      "execution_count": 3,
      "outputs": [
        {
          "output_type": "stream",
          "text": [
            "0.2010300471679496\n"
          ],
          "name": "stdout"
        }
      ]
    },
    {
      "cell_type": "markdown",
      "metadata": {
        "id": "7-fZJkRmrTX_"
      },
      "source": [
        "Based off of the Pearson correlation score, since the value is 0.201 and |0.201| is < 0.5, we accept the null hypothesis that butter output from January to June and Cumulative USA covid cases from January to June are **not** correlated. This test is practical for dairy producers or dairy companies to see if there are any correlations with their product and certain events taking place. With this information, producers could fine tune their output or production levels based off of events in the world or market, and then output appropriately. A great example of this is in the very beginning of the COVID pandemic in America. Around March and April, there were news stories and videos of dairy farmers dumping hundreds of gallons of milk because they produced too much. If these dairy farmers knew that COVID cases were not correlated with dairy output, then perhaps they could have saved thousands of gallons of milk and not overproduced. \n",
        "\n",
        "One of the shortcomings of this test is the short time frame and lack of larger samples. Since we were only interested in January to June, which corresponds to months that have low COVID cases, COVID peaks, and then a decline in cases, our test is quite limited in this aspect. However, we think it is still an interesting idea. Sadly the USDA did not have weekly dairy data output that we know of because if it did we could have fine tuned our test more and gotten more samples."
      ]
    },
    {
      "cell_type": "markdown",
      "metadata": {
        "id": "iyN59eOwcUsq"
      },
      "source": [
        "##**Exploratory 2:** Gym bros, quarantine, and protein shakes!"
      ]
    },
    {
      "cell_type": "markdown",
      "metadata": {
        "id": "n4c3oIAocIUV"
      },
      "source": [
        "With COVID lockdowns came a lack of gyms and the infamous \"at home workouts\", which a lot of people seem to have grown absolutely sick of. What goes hand in hand with gyms being open? Whey protein shakes. Every \"gym bro\" goes around with their protein shakes after a workout, and during COVID, we think not that many people bought protein due to the lack of gyms. Thankfully for us, the USDA has data on dry whey protein prices. We are curious if the prices of whey protein follow the same distribution as monthly cumulative COVID cases. This is very interesting because we hypothesize that they could be similarly distributed. In other words, when COVID cases were higher, such as in March/April 2020 or in the winter surge of 2020, states either fully shut down gyms or had severe capacity restrictions, so perhaps whey protein prices followed a similar trend, where prices either decreased due to lower demand, or increased due to higher demand. Our hypothesis is as follows:\n",
        "\n",
        "**H0**: The distribution of monthly dry whey protein prices from January-December 2020 is the same as the distribution of monthly COVID 19 cases from January-December 2020\n",
        "\n",
        "**H1**: The distribution of monthly dry whey protein prices from January-December 2020 is **not** the same as the distribution of monthly COVID 19 cases from January-December 2020\n",
        "\n",
        "**(Note: this data was in pdf format, so we had to manually enter the values)**"
      ]
    },
    {
      "cell_type": "code",
      "metadata": {
        "id": "P8EaJdOPr-gH"
      },
      "source": [
        "import pandas as pd\n",
        "import numpy as np\n",
        "import warnings\n",
        "from pandas.core.common import SettingWithCopyWarning\n",
        "warnings.simplefilter(action=\"ignore\", category=SettingWithCopyWarning)\n",
        "file = 'https://raw.githubusercontent.com/michaelofsbu/CSE-544-Datasets/main/US-all/US_confirmed.csv'\n",
        "us = pd.read_csv(file)\n",
        "\n",
        "us = us.T.drop(\"State\")\n",
        "\n",
        "us.index = pd.to_datetime(us.index)\n",
        "\n",
        "us['cumulative'] = us.sum(axis=1)\n",
        "\n",
        "us['cumulative'] = us['cumulative'].diff()\n",
        "\n",
        "us['cumulative'][0] = 8\n",
        "\n",
        "us = us[[\"cumulative\"]]\n",
        "\n",
        "us = us[(us.index >= '2020-01-22') & (us.index <= '2020-12-31')]\n",
        "\n",
        "us = us.groupby(us.index.month).sum()\n",
        "us = us[(us.index == 1) | (us.index == 2) | (us.index == 3) | (us.index == 4) | (us.index == 5) | (us.index == 6) | (us.index == 7) | (us.index == 8) | (us.index == 9) | (us.index == 10) | (us.index == 11) | (us.index == 12)]\n",
        "\n",
        "whey_prices = pd.read_csv('drywhey.csv')\n",
        "\n",
        "whey_prices.index = np.arange(1, len(whey_prices) + 1)\n",
        "\n",
        "whey_prices = whey_prices.drop(\"Month\", axis=1)"
      ],
      "execution_count": 4,
      "outputs": []
    },
    {
      "cell_type": "code",
      "metadata": {
        "id": "dhf_qce8rSSU"
      },
      "source": [
        "from sklearn.preprocessing import  MinMaxScaler\n",
        "scaler = MinMaxScaler()\n",
        "\n",
        "whey_price = np.sort(np.array(whey_prices['Price'])) \n",
        "us_cases = np.sort(np.array(us['cumulative']))\n",
        "# Use a MinMax scaler to scale data. Since the cases numbers are so high compared to the protein prices, we must scale our data appropriately to see anything meaningful\n",
        "w_normalized = scaler.fit_transform(whey_price.reshape(-1,1)).reshape(1,-1).flatten()\n",
        "us_normalized = scaler.fit_transform(us_cases.reshape(-1,1)).reshape(1,-1).flatten()\n",
        "\n",
        "def plot_ecdf(S, label):\n",
        "    x = np.sort(S)\n",
        "    y = np.arange(len(x))/float(len(x))\n",
        "    plt.step(x, y, label=label)\n",
        "    return x, y\n",
        "\n",
        "def ks_2_sample(X, Y):\n",
        "    x1, y1 = plot_ecdf(X, 'Whey Protein Prices')\n",
        "    x2, y2 = plot_ecdf(Y, 'US Monthly Cases')\n",
        "\n",
        "    data_all = np.concatenate([x1, x2])\n",
        "    # using searchsorted solves equal data problem\n",
        "    n1, n2 = len(x1), len(x2)\n",
        "    idx1 = np.searchsorted(x1, data_all, side='right')\n",
        "    idx2 = np.searchsorted(x2, data_all, side='right')\n",
        "    cdf1 = idx1 / n1\n",
        "    cdf2 = idx2 / n2\n",
        "    cddiffs = cdf1 - cdf2\n",
        "    minS = np.clip(-np.min(cddiffs), 0, 1)\n",
        "    maxS = np.max(cddiffs)\n",
        "    if minS > maxS:\n",
        "        val = minS\n",
        "        idx = np.argmin(cddiffs)\n",
        "    else:\n",
        "        val = maxS\n",
        "        idx = np.argmax(cddiffs)\n",
        "    maxdiff_x = x1[idx1[idx]]\n",
        "    plt.plot((maxdiff_x,maxdiff_x),(y1[idx1[idx]],y2[idx2[idx]]), 'b--', label='Max Diff = {:.4f}'.format(val))\n",
        "    plt.legend()\n",
        "    plt.xlabel('Num Cases')\n",
        "    plt.ylabel('eCDF')\n",
        "    plt.show()"
      ],
      "execution_count": null,
      "outputs": []
    },
    {
      "cell_type": "code",
      "metadata": {
        "colab": {
          "base_uri": "https://localhost:8080/",
          "height": 279
        },
        "id": "3wSx-LFsu0bi",
        "outputId": "93f9e8d3-f7f0-4124-9b48-ebbcfc5c48eb"
      },
      "source": [
        "ks_2_sample(w_normalized, us_normalized)"
      ],
      "execution_count": null,
      "outputs": [
        {
          "output_type": "display_data",
          "data": {
            "image/png": "[encoded data removed]",
            "text/plain": [
              "<Figure size 432x288 with 1 Axes>"
            ]
          },
          "metadata": {
            "tags": [],
            "needs_background": "light"
          }
        }
      ]
    },
    {
      "cell_type": "markdown",
      "metadata": {
        "id": "N5Yw00T3wo3P"
      },
      "source": [
        "Based off of the KS test, we can see that the maximum difference between the eCDFs of whey protein prices and scaled US cumulative cases is 0.4167. Therefore, since 0.4167 > .2604 *(used table lookup for KS with n = m + n = 24)* , we reject the null hypothesis that monthly whey protein prices and monthly cumulative COVID 19 cases are distributed the same. Since the KS test has no assumptions, it is practical and useful for this dataset because we have no idea how these prices are distributed. \n",
        "\n",
        "We think that this inference is practical because it shows us whether COVID 19 has had an effect on protein prices, and if the affect fluctuates periodically based on COVID cases. In our case, it turns out that they were not distributed the same way, so monthly COVID-19 cases did not have an affect on protein prices, to our disappointment.\n",
        "\n",
        "However, perhaps a protein company such as Optimum Nutrition or MyProtein could use a test like this to see what really is distributed the same as the protein prices. For example, a company could go into deeper granularity and see that California protein prices could be low since they have the strictest COVID restrictions, and see if that follows the same distribution as COVID cases. If the prices do indeed follow the same distribution, then they could tune output and production for each state based on the state level data.\n",
        "\n",
        "Unrelated to this, but also a cool future idea would be using a KS test to see if the distribution of post COVID gym membership numbers and protein prices follow the same distribution."
      ]
    },
    {
      "cell_type": "markdown",
      "metadata": {
        "id": "Otj173vQc86S"
      },
      "source": [
        "##**Exploratory 3:** Wisconsin cheese in relation to COVID"
      ]
    },
    {
      "cell_type": "markdown",
      "metadata": {
        "id": "ttL6Po0U98wF"
      },
      "source": [
        "With the rollout of COVID vaccines, dry ice has been in demand for the preservation of these vaccines. However, dry ice is also crucial for the production and delivery of dairy products, and Wisconsin cheese farmers have requested to safeguard supplies of dry ice for this reason. This is one of many factors that could have influenced the price of cheese in Wisconsin during the past year of the pandemic. With more people staying at home and less willing to explore the markets, cheese could be an appealing product that can last a long time in one's kitchen.\n",
        "\n",
        "We wanted to explore if there was a relation between cheese prices in Wisconsin compared to COVID cases in Wisconsin. To do so, we use data from the USDA on prices of multiple variety of cheeses.\n",
        "\n",
        "Here, we apply Pearson's correlation and 2-sample KS test to see if monthly cheese prices are correlated with monthly cumulative Wisconsin covid cases.\n",
        "\n",
        "**H0**: The distibution of various cheese prices from January-December 2020 is the same as the distribution of monthly Wisconsin COVID 19 cases from January-December 2020\n",
        "\n",
        "**H1**: The distibution of various cheese prices from January-December 2020 is **not** the same as the distribution of monthly Wisconsin COVID 19 cases from January-December 2020"
      ]
    },
    {
      "cell_type": "code",
      "metadata": {
        "id": "XwwNHwjn3-r4"
      },
      "source": [
        "import pandas as pd\n",
        "import matplotlib.pyplot as plt\n",
        "import numpy as np\n",
        "from sklearn.preprocessing import MinMaxScaler\n",
        "from scipy import stats"
      ],
      "execution_count": null,
      "outputs": []
    },
    {
      "cell_type": "code",
      "metadata": {
        "id": "mNa6sPZLbICx",
        "colab": {
          "base_uri": "https://localhost:8080/",
          "height": 1000
        },
        "outputId": "4e1c1d46-ca26-411b-a0d9-cce8e4c4e635"
      },
      "source": [
        "def plot_ecdf(S, label):\n",
        "    x = np.sort(S)\n",
        "    y = np.arange(len(x))/float(len(x))\n",
        "    plt.step(x, y, label=label)\n",
        "    return x, y\n",
        "\n",
        "def ks_2_sample(X, Y):\n",
        "    # f = plt.figure(i)\n",
        "    x1, y1 = plot_ecdf(X, 'Cheese Prices')\n",
        "    x2, y2 = plot_ecdf(Y, 'WI Monthly Cases')\n",
        "\n",
        "    data_all = np.concatenate([x1, x2])\n",
        "    # using searchsorted solves equal data problem\n",
        "    n1, n2 = len(x1), len(x2)\n",
        "    idx1 = np.searchsorted(x1, data_all, side='right')\n",
        "    idx2 = np.searchsorted(x2, data_all, side='right')\n",
        "    cdf1 = idx1 / n1\n",
        "    cdf2 = idx2 / n2\n",
        "    cddiffs = cdf1 - cdf2\n",
        "    minS = np.clip(-np.min(cddiffs), 0, 1)\n",
        "    maxS = np.max(cddiffs)\n",
        "    if minS > maxS:\n",
        "        val = minS\n",
        "        idx = np.argmin(cddiffs)\n",
        "    else:\n",
        "        val = maxS\n",
        "        idx = np.argmax(cddiffs)\n",
        "    maxdiff_x = x1[idx1[idx]]\n",
        "    plt.plot((maxdiff_x,maxdiff_x),(y1[idx1[idx]],y2[idx2[idx]]), 'b--', label='Max Diff = {:.4f}'.format(val))\n",
        "    plt.legend()\n",
        "    plt.xlabel('Num Cases')\n",
        "    plt.ylabel('eCDF')\n",
        "    plt.show()\n",
        "\n",
        "df = pd.read_csv('US_confirmed.csv')\n",
        "wi_data = df.loc[48][1:].diff().fillna(0)\n",
        "\n",
        "wi_data = wi_data[(wi_data.index >= '2020-01-22') & (wi_data.index <= '2020-12-31')]\n",
        "wi_data = wi_data.drop(['2020-09-15', '2020-10-17', '2020-10-18', '2020-11-23', '2020-12-27'])\n",
        "# 2020-09-15        0\n",
        "# 2020-10-17        0\n",
        "# 2020-10-18        0\n",
        "# 2020-11-23    -4742\n",
        "# 2020-12-27   -18439\n",
        "wi_data.index = pd.to_datetime(wi_data.index, format='%Y-%m-%d')\n",
        "\n",
        "wi_months_data = wi_data.groupby(wi_data.index.month).sum()\n",
        "# print(wi_months_data)\n",
        "\n",
        "wi_cheese_data = pd.read_csv('Wisconsin_Cheese_Prices.csv')\n",
        "# print(wi_cheese_data)\n",
        "cheese_names = list(wi_cheese_data['WISCONSIN'])\n",
        "\n",
        "def test_correlation(idx):\n",
        "    cheese_price = np.array(wi_cheese_data.loc[idx][1:-1])\n",
        "    # print(cheese_price)\n",
        "    print(stats.pearsonr(cheese_price, wi_months_data)[0])\n",
        "\n",
        "for i in range(7):\n",
        "    print(cheese_names[i])\n",
        "    test_correlation(i)\n",
        "    print()\n",
        "\n",
        "def test_cheese(idx):\n",
        "    scaler = MinMaxScaler()\n",
        "    wi_cases = np.sort(np.array(wi_months_data))\n",
        "    wi_normalized = scaler.fit_transform(wi_cases.reshape(-1,1)).reshape(1,-1).flatten()\n",
        "    cheese_price = np.sort(np.array(wi_cheese_data.loc[idx][1:-1]))\n",
        "    cheese_normalized = scaler.fit_transform(cheese_price.reshape(-1,1)).reshape(1,-1).flatten()\n",
        "    # print(cheese_normalized)\n",
        "    ks_2_sample(cheese_normalized, wi_normalized)\n",
        "\n",
        "for i in range(7):\n",
        "    print(cheese_names[i])\n",
        "    test_cheese(i)\n",
        "    print()\n"
      ],
      "execution_count": null,
      "outputs": [
        {
          "output_type": "stream",
          "text": [
            "PROCESS AMERICAN 5 POUND LOAF\n",
            "0.26920390276953043\n",
            "\n",
            "BRICK AND/OR MUENSTER 5 POUNDS\n",
            "0.30282344836664515\n",
            "\n",
            "CHEDDAR 40 POUND BLOCK\n",
            "0.3028234483666451\n",
            "\n",
            "MONTEREY JACK 10 POUNDS\n",
            "0.302823448366645\n",
            "\n",
            "BLUE 5 POUNDS\n",
            "0.30282344836664504\n",
            "\n",
            "MOZZARELLA 5-6 POUNDS\n",
            "0.30282344836664526\n",
            "\n",
            "SWISS 6-9 POUND CUTS\n",
            "0.4277729127467491\n",
            "\n",
            "PROCESS AMERICAN 5 POUND LOAF\n"
          ],
          "name": "stdout"
        },
        {
          "output_type": "display_data",
          "data": {
            "image/png": "[encoded data removed]",
            "text/plain": [
              "<Figure size 432x288 with 1 Axes>"
            ]
          },
          "metadata": {
            "tags": [],
            "needs_background": "light"
          }
        },
        {
          "output_type": "stream",
          "text": [
            "\n",
            "BRICK AND/OR MUENSTER 5 POUNDS\n"
          ],
          "name": "stdout"
        },
        {
          "output_type": "display_data",
          "data": {
            "image/png": "[encoded data removed]",
            "text/plain": [
              "<Figure size 432x288 with 1 Axes>"
            ]
          },
          "metadata": {
            "tags": [],
            "needs_background": "light"
          }
        },
        {
          "output_type": "stream",
          "text": [
            "\n",
            "CHEDDAR 40 POUND BLOCK\n"
          ],
          "name": "stdout"
        },
        {
          "output_type": "display_data",
          "data": {
            "image/png": "[encoded data removed]",
            "text/plain": [
              "<Figure size 432x288 with 1 Axes>"
            ]
          },
          "metadata": {
            "tags": [],
            "needs_background": "light"
          }
        },
        {
          "output_type": "stream",
          "text": [
            "\n",
            "MONTEREY JACK 10 POUNDS\n"
          ],
          "name": "stdout"
        },
        {
          "output_type": "display_data",
          "data": {
            "image/png": "[encoded data removed]",
            "text/plain": [
              "<Figure size 432x288 with 1 Axes>"
            ]
          },
          "metadata": {
            "tags": [],
            "needs_background": "light"
          }
        },
        {
          "output_type": "stream",
          "text": [
            "\n",
            "BLUE 5 POUNDS\n"
          ],
          "name": "stdout"
        },
        {
          "output_type": "display_data",
          "data": {
            "image/png": "[encoded data removed]",
            "text/plain": [
              "<Figure size 432x288 with 1 Axes>"
            ]
          },
          "metadata": {
            "tags": [],
            "needs_background": "light"
          }
        },
        {
          "output_type": "stream",
          "text": [
            "\n",
            "MOZZARELLA 5-6 POUNDS\n"
          ],
          "name": "stdout"
        },
        {
          "output_type": "display_data",
          "data": {
            "image/png": "[encoded data removed]",
            "text/plain": [
              "<Figure size 432x288 with 1 Axes>"
            ]
          },
          "metadata": {
            "tags": [],
            "needs_background": "light"
          }
        },
        {
          "output_type": "stream",
          "text": [
            "\n",
            "SWISS 6-9 POUND CUTS\n"
          ],
          "name": "stdout"
        },
        {
          "output_type": "display_data",
          "data": {
            "image/png": "[encoded data removed]",
            "text/plain": [
              "<Figure size 432x288 with 1 Axes>"
            ]
          },
          "metadata": {
            "tags": [],
            "needs_background": "light"
          }
        },
        {
          "output_type": "stream",
          "text": [
            "\n"
          ],
          "name": "stdout"
        }
      ]
    },
    {
      "cell_type": "markdown",
      "metadata": {
        "id": "97qccJJPBRSx"
      },
      "source": [
        "We find that across all the cheeses, the correlation ranged from 0.27 to 0.43. Since all of these values fall below 0.5, we claim that cheese prices are not correlated with COVID confirmed cases in Wisconsin.\n",
        "\n",
        "Additionally, all of the KS differences were 0.5833 > 0.2604 (found by lookup table). Thus, we reject the null and claim that the distibution of various cheese prices from January-December 2020 is not the same as the distribution of monthly Wisconsin COVID 19 cases from January-December 2020.\n",
        "\n",
        "We feel that this is due to numerous factors as there are arguments for both the increase and decrease of cheese prices when compared to COVID cases. In one sense, there should be a decrease of cheese prices due to overall lower consumer demand since people are not going out as much. However, cheese can be a product that can be stored for long periods of time, and will always have demand in certain industries that remained active during COVID times (ex. food takeout/delivery such as pizza). It is difficult to balance all of these factors and thus, this can contribute to a lack of correlation between cheese prices and COVID cases."
      ]
    }
  ]
}