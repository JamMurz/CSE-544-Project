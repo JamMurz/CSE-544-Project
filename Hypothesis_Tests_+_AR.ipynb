{
  "nbformat": 4,
  "nbformat_minor": 0,
  "metadata": {
    "colab": {
      "name": "Hypothesis Tests + AR.ipynb",
      "provenance": [],
      "collapsed_sections": []
    },
    "kernelspec": {
      "name": "python3",
      "display_name": "Python 3"
    },
    "language_info": {
      "name": "python"
    }
  },
  "cells": [
    {
      "cell_type": "code",
      "metadata": {
        "id": "3Yhwz_jfVxox"
      },
      "source": [
        "'''\n",
        "Wald's Test, Z-test, and t-test\n",
        "'''\n",
        "import pandas as pd\n",
        "import numpy as np\n",
        "\n",
        "state = pd.read_csv('23.csv')\n"
      ],
      "execution_count": null,
      "outputs": []
    },
    {
      "cell_type": "code",
      "metadata": {
        "id": "dOUxxw1GWvio"
      },
      "source": [
        "state['Date'] = pd.to_datetime(state['Date'])  \n",
        "february = (state['Date'] >= '2021-02-01') & (state['Date'] <= '2021-02-28')\n",
        "march = (state['Date'] >= '2021-03-01') & (state['Date'] <= '2021-03-31')"
      ],
      "execution_count": null,
      "outputs": []
    },
    {
      "cell_type": "code",
      "metadata": {
        "id": "LcD0DL7ZXP3r"
      },
      "source": [
        "state_feb = state[february]\n",
        "state_march = state[march]\n",
        "\n",
        "cases_VA_feb = state_feb[['Date', 'VA confirmed']]\n",
        "cases_count_VA_feb = cases_VA_feb['VA confirmed']\n",
        "\n",
        "deaths_VA_feb = state_feb[['Date', 'VA deaths']]\n",
        "deaths_count_VA_feb = deaths_VA_feb['VA deaths']\n",
        "\n",
        "cases_UT_feb = state_feb[['Date', 'UT confirmed']]\n",
        "cases_count_UT_feb = cases_UT_feb['UT confirmed']\n",
        "\n",
        "deaths_UT_feb = state_feb[['Date', 'UT deaths']]\n",
        "deaths_count_UT_feb = deaths_UT_feb['UT deaths']\n",
        "\n",
        "cases_VA_mar = state_march[['Date', 'VA confirmed']]\n",
        "cases_count_VA_mar = cases_VA_mar['VA confirmed']\n",
        "\n",
        "deaths_VA_mar = state_march[['Date', 'VA deaths']]\n",
        "deaths_count_VA_mar = deaths_VA_mar['VA deaths']\n",
        "\n",
        "cases_UT_mar = state_march[['Date', 'UT confirmed']]\n",
        "cases_count_UT_mar = cases_UT_mar['UT confirmed']\n",
        "\n",
        "deaths_UT_mar = state_march[['Date', 'UT deaths']]\n",
        "deaths_count_UT_mar = deaths_UT_mar['UT deaths']"
      ],
      "execution_count": null,
      "outputs": []
    },
    {
      "cell_type": "code",
      "metadata": {
        "id": "eukcExOjY5K6"
      },
      "source": [
        "def walds_one(feb, march):\n",
        "  theta_hat = np.mean(feb)\n",
        "  theta_0 = np.mean(march)\n",
        "\n",
        "  se = np.sqrt(theta_hat / len(march))\n",
        "\n",
        "  walds_statistic = (theta_hat - theta_0) / se\n",
        "\n",
        "  if np.abs(walds_statistic) > 1.96:\n",
        "    print(\"|W| = \", np.abs(walds_statistic), \" > 1.96, therefore reject the Null Hypothesis\")\n",
        "  else:\n",
        "    print(\"|W| = \", np.abs(walds_statistic), \" <= 1.96, therefore accept the Null Hypothesis\")\n"
      ],
      "execution_count": null,
      "outputs": []
    },
    {
      "cell_type": "code",
      "metadata": {
        "colab": {
          "base_uri": "https://localhost:8080/"
        },
        "id": "tCkDWc5rczKZ",
        "outputId": "7f7a0376-848f-4d26-b48b-80af9e41f62d"
      },
      "source": [
        "walds_one(deaths_count_UT_feb, deaths_count_UT_mar)"
      ],
      "execution_count": null,
      "outputs": [
        {
          "output_type": "stream",
          "text": [
            "|W| =  31.172891168763257  > 1.96, therefore reject the Null Hypothesis\n"
          ],
          "name": "stdout"
        }
      ]
    },
    {
      "cell_type": "code",
      "metadata": {
        "colab": {
          "base_uri": "https://localhost:8080/"
        },
        "id": "RcCE6gsWeeLw",
        "outputId": "10b624ab-8034-49b7-894b-5143ba81c55d"
      },
      "source": [
        "walds_one(cases_count_UT_feb, cases_count_UT_mar)"
      ],
      "execution_count": null,
      "outputs": [
        {
          "output_type": "stream",
          "text": [
            "|W| =  169.5916851488749  > 1.96, therefore reject the Null Hypothesis\n"
          ],
          "name": "stdout"
        }
      ]
    },
    {
      "cell_type": "code",
      "metadata": {
        "colab": {
          "base_uri": "https://localhost:8080/"
        },
        "id": "SDe_s8Mge57h",
        "outputId": "74511bd4-643a-4793-b4cd-170dede885e4"
      },
      "source": [
        "walds_one(cases_count_VA_feb, cases_count_VA_mar)"
      ],
      "execution_count": null,
      "outputs": [
        {
          "output_type": "stream",
          "text": [
            "|W| =  386.3680317489496  > 1.96, therefore reject the Null Hypothesis\n"
          ],
          "name": "stdout"
        }
      ]
    },
    {
      "cell_type": "code",
      "metadata": {
        "colab": {
          "base_uri": "https://localhost:8080/"
        },
        "id": "UTInduabe2o6",
        "outputId": "a87327bb-86cf-4a48-ef07-674a92afb240"
      },
      "source": [
        "walds_one(deaths_count_VA_feb, deaths_count_VA_mar)"
      ],
      "execution_count": null,
      "outputs": [
        {
          "output_type": "stream",
          "text": [
            "|W| =  181.22032132577195  > 1.96, therefore reject the Null Hypothesis\n"
          ],
          "name": "stdout"
        }
      ]
    },
    {
      "cell_type": "code",
      "metadata": {
        "id": "fetKWKuce9F5"
      },
      "source": [
        "def z_one(original, feb, march):\n",
        "  #Z test requires true standard deviation, so we need to find that\n",
        "  sigma = np.std(original)\n",
        "\n",
        "  x_bar = np.mean(feb)\n",
        "  mu_0 = np.mean(march)\n",
        "\n",
        "\n",
        "  sigma_over_sqrtn = sigma / np.sqrt(len(feb))\n",
        "\n",
        "  z_statistic = (x_bar - mu_0) / sigma_over_sqrtn\n",
        "\n",
        "  if np.abs(z_statistic) > 1.96:\n",
        "    print(\"|Z| = \", np.abs(z_statistic), \"> 1.96 therefore reject the null hypothesis\")\n",
        "  else:\n",
        "    print(\"|Z| = \", np.abs(z_statistic), \"<= 1.96therefore accept the null hypothesis\")\n"
      ],
      "execution_count": null,
      "outputs": []
    },
    {
      "cell_type": "code",
      "metadata": {
        "colab": {
          "base_uri": "https://localhost:8080/"
        },
        "id": "1D-NKxlVjokD",
        "outputId": "8f473252-a9ed-46fd-9dc0-d8a65209610f"
      },
      "source": [
        "z_one(state['VA confirmed'], cases_count_VA_feb, cases_count_VA_mar)"
      ],
      "execution_count": null,
      "outputs": [
        {
          "output_type": "stream",
          "text": [
            "|Z| =  1.371705720445352 <= 1.96therefore accept the null hypothesis\n"
          ],
          "name": "stdout"
        }
      ]
    },
    {
      "cell_type": "code",
      "metadata": {
        "colab": {
          "base_uri": "https://localhost:8080/"
        },
        "id": "W0tZt116j2NU",
        "outputId": "1454a90c-990c-4b62-cfd8-601d29c8a64b"
      },
      "source": [
        "z_one(state['VA deaths'], deaths_count_VA_feb, deaths_count_VA_mar)"
      ],
      "execution_count": null,
      "outputs": [
        {
          "output_type": "stream",
          "text": [
            "|Z| =  5.108579550253789 > 1.96 therefore reject the null hypothesis\n"
          ],
          "name": "stdout"
        }
      ]
    },
    {
      "cell_type": "code",
      "metadata": {
        "colab": {
          "base_uri": "https://localhost:8080/"
        },
        "id": "6DPxoAsikmZv",
        "outputId": "7012e21d-55ff-4a4d-f738-2b524ca91d35"
      },
      "source": [
        "z_one(state['UT confirmed'], cases_count_UT_feb, cases_count_UT_mar)"
      ],
      "execution_count": null,
      "outputs": [
        {
          "output_type": "stream",
          "text": [
            "|Z| =  0.7020619767080907 <= 1.96therefore accept the null hypothesis\n"
          ],
          "name": "stdout"
        }
      ]
    },
    {
      "cell_type": "code",
      "metadata": {
        "colab": {
          "base_uri": "https://localhost:8080/"
        },
        "id": "RAtSPflMkwnw",
        "outputId": "6dd9b316-a442-46c4-def1-56f87f884f91"
      },
      "source": [
        "z_one(state['UT deaths'], deaths_count_UT_feb, deaths_count_UT_mar)"
      ],
      "execution_count": null,
      "outputs": [
        {
          "output_type": "stream",
          "text": [
            "|Z| =  1.8576534274536443 <= 1.96therefore accept the null hypothesis\n"
          ],
          "name": "stdout"
        }
      ]
    },
    {
      "cell_type": "code",
      "metadata": {
        "id": "7nkhoKCXk0xo"
      },
      "source": [
        "def walds_two(feb, march):\n",
        "  x_bar = np.mean(feb)\n",
        "  y_bar = np.mean(march)\n",
        "  delta_hat = x_bar - y_bar\n",
        "\n",
        "  #Since we're using Poisson MLE, variance will be lambda / n\n",
        "  \n",
        "  se_hat = np.sqrt((x_bar / len(feb)) + (y_bar / len(march)))\n",
        "\n",
        "  walds_statistic = delta_hat / se_hat\n",
        "\n",
        "  if np.abs(walds_statistic) > 1.96:\n",
        "    print(\"|W| = \", np.abs(walds_statistic), \" > 1.96, therefore reject the Null Hypothesis\")\n",
        "  else:\n",
        "    print(\"|W| = \", np.abs(walds_statistic), \" <= 1.96, therefore accept the Null Hypothesis\")\n"
      ],
      "execution_count": null,
      "outputs": []
    },
    {
      "cell_type": "code",
      "metadata": {
        "colab": {
          "base_uri": "https://localhost:8080/"
        },
        "id": "StgS35fXo5fQ",
        "outputId": "03ae90ca-03fc-4594-9a6b-3a668cfd5751"
      },
      "source": [
        "walds_two(cases_count_UT_feb, cases_count_UT_mar)"
      ],
      "execution_count": null,
      "outputs": [
        {
          "output_type": "stream",
          "text": [
            "|W| =  115.44969347830576  > 1.96, therefore reject the Null Hypothesis\n"
          ],
          "name": "stdout"
        }
      ]
    },
    {
      "cell_type": "code",
      "metadata": {
        "colab": {
          "base_uri": "https://localhost:8080/"
        },
        "id": "D9ixObKRo2MX",
        "outputId": "0cf0f0a2-5a9f-49a9-a021-5571a43bb10c"
      },
      "source": [
        "walds_two(deaths_count_UT_feb, deaths_count_UT_mar)"
      ],
      "execution_count": null,
      "outputs": [
        {
          "output_type": "stream",
          "text": [
            "|W| =  20.83218579296163  > 1.96, therefore reject the Null Hypothesis\n"
          ],
          "name": "stdout"
        }
      ]
    },
    {
      "cell_type": "code",
      "metadata": {
        "colab": {
          "base_uri": "https://localhost:8080/"
        },
        "id": "oKwWQdWTo_Zv",
        "outputId": "151c589f-9492-4c7e-ef2a-ab574f8c4061"
      },
      "source": [
        "walds_two(cases_count_VA_feb, cases_count_VA_mar)"
      ],
      "execution_count": null,
      "outputs": [
        {
          "output_type": "stream",
          "text": [
            "|W| =  260.4310819769535  > 1.96, therefore reject the Null Hypothesis\n"
          ],
          "name": "stdout"
        }
      ]
    },
    {
      "cell_type": "code",
      "metadata": {
        "colab": {
          "base_uri": "https://localhost:8080/"
        },
        "id": "6DXcdQd-pCpS",
        "outputId": "042b1765-51c3-4349-9bd7-4181f6b5fbb0"
      },
      "source": [
        "walds_two(deaths_count_VA_feb, deaths_count_VA_mar)"
      ],
      "execution_count": null,
      "outputs": [
        {
          "output_type": "stream",
          "text": [
            "|W| =  114.81653434010379  > 1.96, therefore reject the Null Hypothesis\n"
          ],
          "name": "stdout"
        }
      ]
    },
    {
      "cell_type": "code",
      "metadata": {
        "id": "z9NNXugwpFoR"
      },
      "source": [
        "def t_one(feb, march):\n",
        "  x_bar = np.mean(feb)\n",
        "  mu_0 = np.mean(march)\n",
        "\n",
        "  ssd = np.std(feb)\n",
        "\n",
        "  s_over_n = ssd / np.sqrt(len(feb))\n",
        "  t = (x_bar - mu_0) / s_over_n\n",
        "\n",
        "  if np.abs(t) > 2.051831:\n",
        "    print(\"|t| = \", np.abs(t), \"> 2.051831 therefore reject the null hypothesis\")\n",
        "  else:\n",
        "    print(\"|t| = \", np.abs(t), \"<= 2.051831 therefor accept the null hypothesis\")"
      ],
      "execution_count": null,
      "outputs": []
    },
    {
      "cell_type": "code",
      "metadata": {
        "colab": {
          "base_uri": "https://localhost:8080/"
        },
        "id": "zQUrK6hNOp0v",
        "outputId": "bd6fc01c-962f-4c6a-ca94-483ba1eb2c8e"
      },
      "source": [
        "t_one(cases_count_UT_feb, cases_count_UT_mar)"
      ],
      "execution_count": null,
      "outputs": [
        {
          "output_type": "stream",
          "text": [
            "|t| =  13.711719528357026 > 2.051831 therefore reject the null hypothesis\n"
          ],
          "name": "stdout"
        }
      ]
    },
    {
      "cell_type": "code",
      "metadata": {
        "colab": {
          "base_uri": "https://localhost:8080/"
        },
        "id": "Em3egG_oOtMr",
        "outputId": "6030d90c-897b-4f47-f6c8-d55744873ebf"
      },
      "source": [
        "t_one(deaths_count_UT_feb, deaths_count_UT_mar)"
      ],
      "execution_count": null,
      "outputs": [
        {
          "output_type": "stream",
          "text": [
            "|t| =  17.85120765089191 > 2.051831 therefore reject the null hypothesis\n"
          ],
          "name": "stdout"
        }
      ]
    },
    {
      "cell_type": "code",
      "metadata": {
        "colab": {
          "base_uri": "https://localhost:8080/"
        },
        "id": "hPdZPNFOO2KD",
        "outputId": "1049b7f8-5e37-419e-ff35-ff1347224cb3"
      },
      "source": [
        "t_one(cases_count_VA_feb, cases_count_VA_mar)"
      ],
      "execution_count": null,
      "outputs": [
        {
          "output_type": "stream",
          "text": [
            "|t| =  13.113863589190032 > 2.051831 therefore reject the null hypothesis\n"
          ],
          "name": "stdout"
        }
      ]
    },
    {
      "cell_type": "code",
      "metadata": {
        "colab": {
          "base_uri": "https://localhost:8080/"
        },
        "id": "Fa0knh5lO4JD",
        "outputId": "8b2794b6-3f97-4d35-801e-18ddc645dbbe"
      },
      "source": [
        "t_one(deaths_count_VA_feb, deaths_count_VA_mar)"
      ],
      "execution_count": null,
      "outputs": [
        {
          "output_type": "stream",
          "text": [
            "|t| =  26.739252053774308 > 2.051831 therefore reject the null hypothesis\n"
          ],
          "name": "stdout"
        }
      ]
    },
    {
      "cell_type": "code",
      "metadata": {
        "id": "H84V7-xNO7_z"
      },
      "source": [
        "def t_two_unpaired(feb, march):\n",
        "  x_bar = np.mean(feb)\n",
        "  y_bar = np.mean(march)\n",
        "  d_bar = x_bar - y_bar\n",
        "\n",
        "  sx = np.var(feb) / len(feb)\n",
        "  sy = np.var(march) / len(march)\n",
        "  sx_sy = np.sqrt(sx + sy)\n",
        "\n",
        "  t = d_bar / sx_sy\n",
        "\n",
        "  if np.abs(t) > 2.002465:\n",
        "    print(\"|t| = \", np.abs(t), \"> 2.002465 therefore reject the null hypothesis\")\n",
        "  else:\n",
        "    print(\"|t| = \", np.abs(t), \"<= 2.002465 therefore reject the null hypothesis\")\n"
      ],
      "execution_count": null,
      "outputs": []
    },
    {
      "cell_type": "code",
      "metadata": {
        "colab": {
          "base_uri": "https://localhost:8080/"
        },
        "id": "6n41tzevv0bD",
        "outputId": "c273d460-ac31-43f9-f2e5-9fb7cf5c33f0"
      },
      "source": [
        "t_two_unpaired(cases_count_UT_feb, cases_count_UT_mar)"
      ],
      "execution_count": null,
      "outputs": [
        {
          "output_type": "stream",
          "text": [
            "|t| =  11.910784809405355 > 2.002465 therefore reject the null hypothesis\n"
          ],
          "name": "stdout"
        }
      ]
    },
    {
      "cell_type": "code",
      "metadata": {
        "colab": {
          "base_uri": "https://localhost:8080/"
        },
        "id": "60IC3t_Fv-0M",
        "outputId": "182f1391-5015-4e51-b9de-cca35dd0077d"
      },
      "source": [
        "t_two_unpaired(deaths_count_UT_feb, deaths_count_UT_mar)"
      ],
      "execution_count": null,
      "outputs": [
        {
          "output_type": "stream",
          "text": [
            "|t| =  14.159815154650781 > 2.002465 therefore reject the null hypothesis\n"
          ],
          "name": "stdout"
        }
      ]
    },
    {
      "cell_type": "code",
      "metadata": {
        "colab": {
          "base_uri": "https://localhost:8080/"
        },
        "id": "_2xFLtd-wBkk",
        "outputId": "323046f5-1765-42b0-d0ba-52263f4bbeb9"
      },
      "source": [
        "t_two_unpaired(cases_count_VA_feb, cases_count_VA_mar)"
      ],
      "execution_count": null,
      "outputs": [
        {
          "output_type": "stream",
          "text": [
            "|t| =  11.357687622323128 > 2.002465 therefore reject the null hypothesis\n"
          ],
          "name": "stdout"
        }
      ]
    },
    {
      "cell_type": "code",
      "metadata": {
        "colab": {
          "base_uri": "https://localhost:8080/"
        },
        "id": "8bL9lV2jwDXc",
        "outputId": "7ace7a17-8d4f-483a-b21a-0a2e2023231a"
      },
      "source": [
        "t_two_unpaired(deaths_count_VA_feb, deaths_count_VA_mar)"
      ],
      "execution_count": null,
      "outputs": [
        {
          "output_type": "stream",
          "text": [
            "|t| =  21.770162931599856 > 2.002465 therefore reject the null hypothesis\n"
          ],
          "name": "stdout"
        }
      ]
    },
    {
      "cell_type": "markdown",
      "metadata": {
        "id": "-0ZU9LohgWEz"
      },
      "source": [
        "AR(3) & AR(5)"
      ]
    },
    {
      "cell_type": "code",
      "metadata": {
        "id": "1IvmLF-ffbOk"
      },
      "source": [
        "import pandas as pd\n",
        "import numpy as np\n",
        "import matplotlib.pyplot as plt\n",
        "\n",
        "import pandas_datareader as pdr\n",
        "import seaborn as sns\n",
        "\n",
        "# from statsmodels.tsa.ar_model import AutoReg\n",
        "# from statsmodels.tsa.stattools import adfuller\n",
        "# from sklearn.metrics import mean_squared_error\n",
        "\n",
        "file = 'https://raw.githubusercontent.com/michaelofsbu/CSE-544-Datasets/main/States%20Data/23.csv'\n",
        "state = pd.read_csv(file)\n",
        "state['Date'] = pd.to_datetime(state['Date'])  \n",
        "\n",
        "aug = (state['Date'] >= '2020-08-01') & (state['Date'] <= '2020-08-31')\n",
        "state_aug = state[aug]\n",
        "state_aug = state_aug.reset_index()\n"
      ],
      "execution_count": null,
      "outputs": []
    },
    {
      "cell_type": "code",
      "metadata": {
        "colab": {
          "base_uri": "https://localhost:8080/"
        },
        "id": "KuRF7mMSLuAj",
        "outputId": "7242026e-87f9-424e-cf8b-5cb5494a0395"
      },
      "source": [
        "# mean absolute percent error\n",
        "def mape(actual, Predicted):\n",
        "  mape = np.mean(np.abs((actual - Predicted)/actual))*100\n",
        "  return mape\n",
        "\n",
        "# mean squared error\n",
        "def msev(actual, Predicted):\n",
        "  mse = np.square(np.subtract(actual, Predicted)).mean()\n",
        "  return mse\n",
        "\n",
        "# Autoregression model and p as the lags value\n",
        "def ar(p, df, train_size, col):\n",
        "  # Add f-*p columns to dataframe\n",
        "  for i in range(1, p+1):\n",
        "    df['f-%d' % i ] = df[col].shift(i)\n",
        "\n",
        "  # Breaking data into training and test set and remove the null value\n",
        "  train = pd.DataFrame(df[:train_size]).dropna()\n",
        "  test = pd.DataFrame(df[train_size:])\n",
        "\n",
        "  # Separate the f-*p columns as data, first column as labels\n",
        "  train_data = train.iloc[:,1:].values.reshape(-1, p)\n",
        "  train_label = train.iloc[:,0].values.reshape(-1, 1)\n",
        "  test_data = test.iloc[:,1:].values.reshape(-1, p)\n",
        "\n",
        "  # Running linear regression to generate the coefficents and interceptions\n",
        "  from sklearn.linear_model import LinearRegression\n",
        "  lr = LinearRegression()\n",
        "  lr.fit(train_data, train_label)\n",
        "\n",
        "  # Use the autoregression formula y(t) = intercept + Σ coef(i) * y(t-i)\n",
        "  # to compute the predicted y(t) value\n",
        "  pred = test_data.dot(lr.coef_.T) + lr.intercept_\n",
        "  pred = pred.flatten()\n",
        "\n",
        "  # Compute the mse and mape value\n",
        "  mse = msev(test[col], pred)\n",
        "  mape_percent = mape(test[col], pred)\n",
        "\n",
        "  # Report the accuracy\n",
        "  print('AR('+str(p)+') mape: ', round(mape_percent,2), '%\\tmse:', round(mse))\n",
        "\n",
        "\n",
        "cols = ['UT confirmed',\t'VA confirmed',\t'UT deaths',\t'VA deaths']\n",
        "\n",
        "for col in cols:\n",
        "  # data = state_aug[col]\n",
        "  data = pd.DataFrame(state_aug[col])\n",
        "  print(col)\n",
        "  ar(3, data, 21, col)\n",
        "  ar(5, data, 21, col)\n",
        "  print()\n"
      ],
      "execution_count": null,
      "outputs": [
        {
          "output_type": "stream",
          "text": [
            "UT confirmed\n",
            "AR(3) mape:  0.14 %\tmse: 6014\n",
            "AR(5) mape:  0.33 %\tmse: 36549\n",
            "\n",
            "VA confirmed\n",
            "AR(3) mape:  0.28 %\tmse: 143442\n",
            "AR(5) mape:  0.48 %\tmse: 366682\n",
            "\n",
            "UT deaths\n",
            "AR(3) mape:  0.71 %\tmse: 9\n",
            "AR(5) mape:  0.8 %\tmse: 13\n",
            "\n",
            "VA deaths\n",
            "AR(3) mape:  0.66 %\tmse: 351\n",
            "AR(5) mape:  0.5 %\tmse: 244\n",
            "\n"
          ],
          "name": "stdout"
        }
      ]
    }
  ]
}