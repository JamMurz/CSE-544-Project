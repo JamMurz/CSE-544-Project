{
  "nbformat": 4,
  "nbformat_minor": 0,
  "metadata": {
    "colab": {
      "name": "Exploratory.ipynb",
      "provenance": []
    },
    "kernelspec": {
      "name": "python3",
      "display_name": "Python 3"
    },
    "language_info": {
      "name": "python"
    }
  },
  "cells": [
    {
      "cell_type": "markdown",
      "metadata": {
        "id": "3MOWk7JGOF3k"
      },
      "source": [
        "During COVID-19, a lot of Americans took up baking as a hobby. Facebook, Instagram, and Twitter were all flooded with pictures of baked bread, croissants, cookies, and cakes. This led to the \"Quarantine 15\" meme where people claimed they gained 15 lbs from the excess of lockdown cooking and carbs. \n",
        "\n",
        "We are wondering whether the United States surge in COVID-19 had any affect on the sale of dairy products during this time, especially since so many people took up baking as a hobby. We are using the USDA Dairy Glance dataset, which includes various dairy product statistics from January 2020 to March 2021.\n",
        "\n",
        "Our first hypothesis is as follows: Did the surge in COVID-19 cases lead to an  increase in butter output? Butter is a staple for many baked goods, so we hypothesize that this baking craze could have led to an increase in butter output from farmers. \n",
        "\n",
        "Here, we apply Pearson's correlation to see if butter output and cumulative US covid cases are correlated.\n",
        "\n",
        "Ho: Butter output from January to June and cumulative monthly USA covid cases from January to June are not correlated\n",
        "\n",
        "H1: Butter output from January to June and cumulative monthly USA covid cases from January to June are correlated"
      ]
    },
    {
      "cell_type": "code",
      "metadata": {
        "id": "yrkAp7zmO8fZ"
      },
      "source": [
        "import pandas as pd\n",
        "import numpy as np"
      ],
      "execution_count": 128,
      "outputs": []
    },
    {
      "cell_type": "code",
      "metadata": {
        "id": "gPKvk-w1CLkb"
      },
      "source": [
        "butter = pd.read_csv('butter.csv')\n",
        "file = 'https://raw.githubusercontent.com/michaelofsbu/CSE-544-Datasets/main/US-all/US_confirmed.csv'\n",
        "us = pd.read_csv(file)"
      ],
      "execution_count": 135,
      "outputs": []
    },
    {
      "cell_type": "code",
      "metadata": {
        "id": "gVNs-EX-CzW3"
      },
      "source": [
        "us = us.T.drop(\"State\")"
      ],
      "execution_count": 136,
      "outputs": []
    },
    {
      "cell_type": "code",
      "metadata": {
        "id": "CMDSeMBUDzDq"
      },
      "source": [
        "us.index = pd.to_datetime(us.index)"
      ],
      "execution_count": 137,
      "outputs": []
    },
    {
      "cell_type": "code",
      "metadata": {
        "id": "u1uC-0HJI-ce"
      },
      "source": [
        "us['cumulative'] = us.sum(axis=1)"
      ],
      "execution_count": 138,
      "outputs": []
    },
    {
      "cell_type": "code",
      "metadata": {
        "id": "rl6xzABZYf2Y"
      },
      "source": [
        "us['cumulative'] = us['cumulative'].diff()"
      ],
      "execution_count": 166,
      "outputs": []
    },
    {
      "cell_type": "code",
      "metadata": {
        "id": "oanYs6oGY7p7"
      },
      "source": [
        "us['cumulative'][0] = 8"
      ],
      "execution_count": 169,
      "outputs": []
    },
    {
      "cell_type": "code",
      "metadata": {
        "id": "hWEnku7UJSZl"
      },
      "source": [
        "us = us[[\"cumulative\"]]"
      ],
      "execution_count": 170,
      "outputs": []
    },
    {
      "cell_type": "code",
      "metadata": {
        "id": "tH0Td60mL655"
      },
      "source": [
        "us = us[(us.index >= '2020-01-22') & (us.index <= '2020-06-30')]"
      ],
      "execution_count": 171,
      "outputs": []
    },
    {
      "cell_type": "code",
      "metadata": {
        "colab": {
          "base_uri": "https://localhost:8080/",
          "height": 235
        },
        "id": "nhzyVjwgUtFN",
        "outputId": "09db95ca-ba67-4424-bb43-6d0d9ee32df3"
      },
      "source": [
        "us"
      ],
      "execution_count": 172,
      "outputs": [
        {
          "output_type": "execute_result",
          "data": {
            "text/html": [
              "<div>\n",
              "<style scoped>\n",
              "    .dataframe tbody tr th:only-of-type {\n",
              "        vertical-align: middle;\n",
              "    }\n",
              "\n",
              "    .dataframe tbody tr th {\n",
              "        vertical-align: top;\n",
              "    }\n",
              "\n",
              "    .dataframe thead th {\n",
              "        text-align: right;\n",
              "    }\n",
              "</style>\n",
              "<table border=\"1\" class=\"dataframe\">\n",
              "  <thead>\n",
              "    <tr style=\"text-align: right;\">\n",
              "      <th></th>\n",
              "      <th>cumulative</th>\n",
              "    </tr>\n",
              "  </thead>\n",
              "  <tbody>\n",
              "    <tr>\n",
              "      <th>2020-01-31</th>\n",
              "      <td>8.0</td>\n",
              "    </tr>\n",
              "    <tr>\n",
              "      <th>2020-02-28</th>\n",
              "      <td>15.0</td>\n",
              "    </tr>\n",
              "    <tr>\n",
              "      <th>2020-03-31</th>\n",
              "      <td>186727.0</td>\n",
              "    </tr>\n",
              "    <tr>\n",
              "      <th>2020-04-30</th>\n",
              "      <td>876564.0</td>\n",
              "    </tr>\n",
              "    <tr>\n",
              "      <th>2020-05-31</th>\n",
              "      <td>715946.0</td>\n",
              "    </tr>\n",
              "    <tr>\n",
              "      <th>2020-06-30</th>\n",
              "      <td>839557.0</td>\n",
              "    </tr>\n",
              "  </tbody>\n",
              "</table>\n",
              "</div>"
            ],
            "text/plain": [
              "            cumulative\n",
              "2020-01-31         8.0\n",
              "2020-02-28        15.0\n",
              "2020-03-31    186727.0\n",
              "2020-04-30    876564.0\n",
              "2020-05-31    715946.0\n",
              "2020-06-30    839557.0"
            ]
          },
          "metadata": {
            "tags": []
          },
          "execution_count": 172
        }
      ]
    },
    {
      "cell_type": "code",
      "metadata": {
        "id": "Pm7bgKfBMvfQ"
      },
      "source": [
        "us = us[(us.index == '2020-01-31') | (us.index == '2020-02-28') | (us.index == '2020-03-31') | (us.index == '2020-04-30') | (us.index == '2020-05-31') | (us.index == '2020-06-30')]"
      ],
      "execution_count": 173,
      "outputs": []
    },
    {
      "cell_type": "code",
      "metadata": {
        "id": "ICrHBCskRKsK"
      },
      "source": [
        "butter = butter[0:6]"
      ],
      "execution_count": 174,
      "outputs": []
    },
    {
      "cell_type": "code",
      "metadata": {
        "id": "irsRIiYKRtTC"
      },
      "source": [
        "butter_xbar = butter['Butter Output'].mean()"
      ],
      "execution_count": 175,
      "outputs": []
    },
    {
      "cell_type": "code",
      "metadata": {
        "id": "RYCnQMLHSAZc"
      },
      "source": [
        "cases_ybar = us['cumulative'].mean()"
      ],
      "execution_count": 176,
      "outputs": []
    },
    {
      "cell_type": "code",
      "metadata": {
        "id": "ZZ36L-Z9SBFT"
      },
      "source": [
        "butter_output = np.array(butter['Butter Output'])\n",
        "cases_cumulative = np.array(us['cumulative'])"
      ],
      "execution_count": 177,
      "outputs": []
    },
    {
      "cell_type": "code",
      "metadata": {
        "colab": {
          "base_uri": "https://localhost:8080/"
        },
        "id": "YJlmY1MDSYz2",
        "outputId": "82261499-48ff-4756-a628-b3aa98fcb1bd"
      },
      "source": [
        "numerator = 0\n",
        "x_sum_denominator = 0\n",
        "y_sum_denominator = 0\n",
        "for i in range(len(butter_output)):\n",
        "  x = butter_output[i] - butter_xbar\n",
        "  y = cases_cumulative[i] - cases_ybar\n",
        "  numerator += x * y\n",
        "\n",
        "  x_sum_denominator += x**2\n",
        "  y_sum_denominator += y**2\n",
        "\n",
        "print(abs(numerator / np.sqrt(x_sum_denominator * y_sum_denominator)))"
      ],
      "execution_count": 178,
      "outputs": [
        {
          "output_type": "stream",
          "text": [
            "0.20102796503194495\n"
          ],
          "name": "stdout"
        }
      ]
    },
    {
      "cell_type": "markdown",
      "metadata": {
        "id": "re7IbdW-V-5D"
      },
      "source": [
        "Baed off of the Pearson correlation score, since the value is 0.201 and |0.201| is < 0.5, we accept the null hypothesis that butter output from January to June and Cumulative USA covid cases from January to June are not correlated."
      ]
    },
    {
      "cell_type": "code",
      "metadata": {
        "id": "v5HpeAp7YwEI"
      },
      "source": [
        ""
      ],
      "execution_count": null,
      "outputs": []
    }
  ]
}